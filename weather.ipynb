{
 "cells": [
  {
   "cell_type": "code",
   "execution_count": 27,
   "metadata": {},
   "outputs": [],
   "source": [
    "import pandas as pd\n",
    "import os"
   ]
  },
  {
   "cell_type": "code",
   "execution_count": 28,
   "metadata": {},
   "outputs": [],
   "source": [
    "def get_meteo_dataframes(prefix):\n",
    "    lst = []\n",
    "\n",
    "    for file in os.listdir(path=prefix):\n",
    "        lst.append(pd.read_csv(os.path.join(prefix, file), sep=';'))\n",
    "        \n",
    "    return lst"
   ]
  },
  {
   "cell_type": "code",
   "execution_count": 29,
   "metadata": {},
   "outputs": [],
   "source": [
    "months_dict = {\n",
    "    1: \"Gennaio\",\n",
    "    2: \"Febbraio\",\n",
    "    3: \"Marzo\",\n",
    "    4: \"Aprile\",\n",
    "    5: \"Maggio\",\n",
    "    6: \"Giugno\",\n",
    "    7: \"Luglio\",\n",
    "    8: \"Agosto\",\n",
    "    9: \"Settembre\",\n",
    "    10: \"Ottobre\",\n",
    "    11: \"Novembre\",\n",
    "    12: \"Dicembre\",\n",
    "}"
   ]
  },
  {
   "cell_type": "code",
   "execution_count": 30,
   "metadata": {},
   "outputs": [],
   "source": [
    "def process_dataframes(dfs: list):\n",
    "    grouped_dfs = []\n",
    "    \n",
    "    for df in dfs:\n",
    "        year = df['DATA'].map(lambda x: x.split('/')[2]).mode().values[0]\n",
    "        \n",
    "        df['MESE'] = df['DATA'].map(lambda x: int(x.split('/')[1]))\n",
    "        \n",
    "        df = df.rename(columns={'TMEDIA °C': f'TMEDIA °C {year}'}) \n",
    "        \n",
    "        grouped_df = (\n",
    "            df.groupby(by=['MESE'])[f'TMEDIA °C {year}']\n",
    "                .mean()\n",
    "                .round(2)\n",
    "                .reset_index()\n",
    "                .sort_values('MESE')\n",
    "        )\n",
    "        \n",
    "        grouped_dfs.append(grouped_df)\n",
    "        \n",
    "    return grouped_dfs"
   ]
  },
  {
   "cell_type": "code",
   "execution_count": 31,
   "metadata": {},
   "outputs": [],
   "source": [
    "df_23 = pd.concat(get_meteo_dataframes(\"Raw Datasets/Meteo23\"))\n",
    "df_24 = pd.concat(get_meteo_dataframes(\"Raw Datasets/Meteo24\"))"
   ]
  },
  {
   "cell_type": "code",
   "execution_count": 32,
   "metadata": {},
   "outputs": [],
   "source": [
    "def merge_dataframes(dfs):\n",
    "    df_final = None\n",
    "\n",
    "    for i, df in enumerate(dfs):\n",
    "        if i == 0:\n",
    "            df_final = df\n",
    "        else:\n",
    "            df_final = pd.merge(df_final, df, on='MESE')\n",
    "            \n",
    "    return df_final"
   ]
  },
  {
   "cell_type": "code",
   "execution_count": 34,
   "metadata": {},
   "outputs": [
    {
     "data": {
      "application/vnd.microsoft.datawrangler.viewer.v0+json": {
       "columns": [
        {
         "name": "index",
         "rawType": "int64",
         "type": "integer"
        },
        {
         "name": "MESE",
         "rawType": "object",
         "type": "string"
        },
        {
         "name": "TMEDIA °C 2023",
         "rawType": "float64",
         "type": "float"
        },
        {
         "name": "TMEDIA °C 2024",
         "rawType": "float64",
         "type": "float"
        }
       ],
       "conversionMethod": "pd.DataFrame",
       "ref": "91daecc2-5955-4986-aba2-2d60967e2f0d",
       "rows": [
        [
         "0",
         "Gennaio",
         "9.61",
         "10.26"
        ],
        [
         "1",
         "Febbraio",
         "9.0",
         "11.34"
        ],
        [
         "2",
         "Marzo",
         "12.1",
         "13.1"
        ],
        [
         "3",
         "Aprile",
         "13.37",
         "15.4"
        ],
        [
         "4",
         "Maggio",
         "18.03",
         "19.52"
        ],
        [
         "5",
         "Giugno",
         "23.0",
         "24.97"
        ],
        [
         "6",
         "Luglio",
         "28.19",
         "27.9"
        ],
        [
         "7",
         "Agosto",
         "25.9",
         "27.45"
        ],
        [
         "8",
         "Settembre",
         "23.3",
         "22.53"
        ],
        [
         "9",
         "Ottobre",
         "20.35",
         "19.32"
        ],
        [
         "10",
         "Novembre",
         "15.03",
         "13.17"
        ],
        [
         "11",
         "Dicembre",
         "10.77",
         "10.13"
        ]
       ],
       "shape": {
        "columns": 3,
        "rows": 12
       }
      },
      "text/html": [
       "<div>\n",
       "<style scoped>\n",
       "    .dataframe tbody tr th:only-of-type {\n",
       "        vertical-align: middle;\n",
       "    }\n",
       "\n",
       "    .dataframe tbody tr th {\n",
       "        vertical-align: top;\n",
       "    }\n",
       "\n",
       "    .dataframe thead th {\n",
       "        text-align: right;\n",
       "    }\n",
       "</style>\n",
       "<table border=\"1\" class=\"dataframe\">\n",
       "  <thead>\n",
       "    <tr style=\"text-align: right;\">\n",
       "      <th></th>\n",
       "      <th>MESE</th>\n",
       "      <th>TMEDIA °C 2023</th>\n",
       "      <th>TMEDIA °C 2024</th>\n",
       "    </tr>\n",
       "  </thead>\n",
       "  <tbody>\n",
       "    <tr>\n",
       "      <th>0</th>\n",
       "      <td>Gennaio</td>\n",
       "      <td>9.61</td>\n",
       "      <td>10.26</td>\n",
       "    </tr>\n",
       "    <tr>\n",
       "      <th>1</th>\n",
       "      <td>Febbraio</td>\n",
       "      <td>9.00</td>\n",
       "      <td>11.34</td>\n",
       "    </tr>\n",
       "    <tr>\n",
       "      <th>2</th>\n",
       "      <td>Marzo</td>\n",
       "      <td>12.10</td>\n",
       "      <td>13.10</td>\n",
       "    </tr>\n",
       "    <tr>\n",
       "      <th>3</th>\n",
       "      <td>Aprile</td>\n",
       "      <td>13.37</td>\n",
       "      <td>15.40</td>\n",
       "    </tr>\n",
       "    <tr>\n",
       "      <th>4</th>\n",
       "      <td>Maggio</td>\n",
       "      <td>18.03</td>\n",
       "      <td>19.52</td>\n",
       "    </tr>\n",
       "    <tr>\n",
       "      <th>5</th>\n",
       "      <td>Giugno</td>\n",
       "      <td>23.00</td>\n",
       "      <td>24.97</td>\n",
       "    </tr>\n",
       "    <tr>\n",
       "      <th>6</th>\n",
       "      <td>Luglio</td>\n",
       "      <td>28.19</td>\n",
       "      <td>27.90</td>\n",
       "    </tr>\n",
       "    <tr>\n",
       "      <th>7</th>\n",
       "      <td>Agosto</td>\n",
       "      <td>25.90</td>\n",
       "      <td>27.45</td>\n",
       "    </tr>\n",
       "    <tr>\n",
       "      <th>8</th>\n",
       "      <td>Settembre</td>\n",
       "      <td>23.30</td>\n",
       "      <td>22.53</td>\n",
       "    </tr>\n",
       "    <tr>\n",
       "      <th>9</th>\n",
       "      <td>Ottobre</td>\n",
       "      <td>20.35</td>\n",
       "      <td>19.32</td>\n",
       "    </tr>\n",
       "    <tr>\n",
       "      <th>10</th>\n",
       "      <td>Novembre</td>\n",
       "      <td>15.03</td>\n",
       "      <td>13.17</td>\n",
       "    </tr>\n",
       "    <tr>\n",
       "      <th>11</th>\n",
       "      <td>Dicembre</td>\n",
       "      <td>10.77</td>\n",
       "      <td>10.13</td>\n",
       "    </tr>\n",
       "  </tbody>\n",
       "</table>\n",
       "</div>"
      ],
      "text/plain": [
       "         MESE  TMEDIA °C 2023  TMEDIA °C 2024\n",
       "0     Gennaio            9.61           10.26\n",
       "1    Febbraio            9.00           11.34\n",
       "2       Marzo           12.10           13.10\n",
       "3      Aprile           13.37           15.40\n",
       "4      Maggio           18.03           19.52\n",
       "5      Giugno           23.00           24.97\n",
       "6      Luglio           28.19           27.90\n",
       "7      Agosto           25.90           27.45\n",
       "8   Settembre           23.30           22.53\n",
       "9     Ottobre           20.35           19.32\n",
       "10   Novembre           15.03           13.17\n",
       "11   Dicembre           10.77           10.13"
      ]
     },
     "execution_count": 34,
     "metadata": {},
     "output_type": "execute_result"
    }
   ],
   "source": [
    "df = merge_dataframes(process_dataframes([df_23, df_24]))\n",
    "df['MESE'] = df['MESE'].map(lambda x: months_dict[x])\n",
    "df"
   ]
  },
  {
   "cell_type": "code",
   "execution_count": 35,
   "metadata": {},
   "outputs": [],
   "source": [
    "df.to_csv('modified_meteo.csv')"
   ]
  },
  {
   "cell_type": "markdown",
   "metadata": {},
   "source": [
    "Provare bar chart race"
   ]
  }
 ],
 "metadata": {
  "kernelspec": {
   "display_name": "venv",
   "language": "python",
   "name": "python3"
  },
  "language_info": {
   "codemirror_mode": {
    "name": "ipython",
    "version": 3
   },
   "file_extension": ".py",
   "mimetype": "text/x-python",
   "name": "python",
   "nbconvert_exporter": "python",
   "pygments_lexer": "ipython3",
   "version": "3.12.2"
  }
 },
 "nbformat": 4,
 "nbformat_minor": 2
}
