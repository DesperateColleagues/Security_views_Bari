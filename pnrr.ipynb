{
 "cells": [
  {
   "cell_type": "code",
   "execution_count": 9,
   "metadata": {},
   "outputs": [],
   "source": [
    "import pandas as pd"
   ]
  },
  {
   "cell_type": "code",
   "execution_count": 10,
   "metadata": {},
   "outputs": [],
   "source": [
    "df = pd.read_csv('progetti-pnrr_nuovo.csv')"
   ]
  },
  {
   "cell_type": "code",
   "execution_count": 11,
   "metadata": {},
   "outputs": [
    {
     "name": "stdout",
     "output_type": "stream",
     "text": [
      "<class 'pandas.core.frame.DataFrame'>\n",
      "RangeIndex: 79 entries, 0 to 78\n",
      "Data columns (total 16 columns):\n",
      " #   Column                                Non-Null Count  Dtype  \n",
      "---  ------                                --------------  -----  \n",
      " 0   Rip.ne/Settore                        79 non-null     object \n",
      " 1   Tipo finanziamento\n",
      "(PNRR - PNC)       79 non-null     object \n",
      " 2   Amministrazione                       79 non-null     object \n",
      " 3   N. avviso                             69 non-null     object \n",
      " 4   Missione                              74 non-null     float64\n",
      " 5   Componente                            78 non-null     float64\n",
      " 6   Investimento                          60 non-null     object \n",
      " 7   Oggetto intervento                    79 non-null     object \n",
      " 8    PNNR/PNC                             79 non-null     object \n",
      " 9    Cof.to                               7 non-null      float64\n",
      " 10   Importo Incremento DPCM 28/07/2022   22 non-null     object \n",
      " 11   Totale                               79 non-null     object \n",
      " 12   Fonte cof.to                         30 non-null     float64\n",
      " 13  CUP                                   46 non-null     object \n",
      " 14  Stato intervento                      0 non-null      float64\n",
      " 15  Termine per la realizzazione          0 non-null      float64\n",
      "dtypes: float64(6), object(10)\n",
      "memory usage: 10.0+ KB\n"
     ]
    }
   ],
   "source": [
    "df.info()"
   ]
  },
  {
   "cell_type": "markdown",
   "metadata": {},
   "source": [
    "## Drop useless columns and rows"
   ]
  },
  {
   "cell_type": "code",
   "execution_count": 12,
   "metadata": {},
   "outputs": [],
   "source": [
    "df = df.iloc[:, [0, 1, 7, 8, 11]] # uselss columns"
   ]
  },
  {
   "cell_type": "code",
   "execution_count": 13,
   "metadata": {},
   "outputs": [],
   "source": [
    "df = df.drop(index=18) # empty fondi stanziati"
   ]
  },
  {
   "cell_type": "markdown",
   "metadata": {},
   "source": [
    "## Rename Dataframe columns"
   ]
  },
  {
   "cell_type": "code",
   "execution_count": 14,
   "metadata": {},
   "outputs": [
    {
     "data": {
      "application/vnd.microsoft.datawrangler.viewer.v0+json": {
       "columns": [
        {
         "name": "index",
         "rawType": "int64",
         "type": "integer"
        },
        {
         "name": "Settore",
         "rawType": "object",
         "type": "string"
        },
        {
         "name": "Tipo finanziamento",
         "rawType": "object",
         "type": "string"
        },
        {
         "name": "Oggetto intervento",
         "rawType": "object",
         "type": "string"
        },
        {
         "name": "Fondi stanziati",
         "rawType": "object",
         "type": "string"
        },
        {
         "name": "Fondi spesi",
         "rawType": "object",
         "type": "string"
        }
       ],
       "conversionMethod": "pd.DataFrame",
       "ref": "543af407-60ac-4fbc-9d0e-65e026c64ca1",
       "rows": [
        [
         "0",
         "Ambiente",
         "PNRR",
         "Linea d’Intervento A: “Miglioramento e meccanizzazione della rete di raccolta differenziata dei rifiuti urbani”",
         "948.154.44 €",
         "948.154.44 €"
        ],
        [
         "1",
         "Ambiente",
         "PNRR",
         "Linea d’Intervento A: “Miglioramento e meccanizzazione della rete di raccolta differenziata dei rifiuti urbani”",
         "966.396.89 €",
         "966.396.89 €"
        ],
        [
         "2",
         "Ambiente",
         "PNRR",
         "Linea d’Intervento A: “Miglioramento e meccanizzazione della rete di raccolta differenziata dei rifiuti urbani”",
         "978.672.18 €",
         "978.672.18 €"
        ],
        [
         "3",
         "Ambiente",
         "PNRR",
         "Linea d’Intervento A: “Miglioramento e meccanizzazione della rete di raccolta differenziata dei rifiuti urbani”",
         "846.818.80 €",
         "846.818.80 €"
        ],
        [
         "4",
         "Ambiente",
         "PNRR",
         "Linea d’Intervento A: “Miglioramento e meccanizzazione della rete di raccolta differenziata dei rifiuti urbani”",
         "677.723.54 €",
         "677.723.54 €"
        ]
       ],
       "shape": {
        "columns": 5,
        "rows": 5
       }
      },
      "text/html": [
       "<div>\n",
       "<style scoped>\n",
       "    .dataframe tbody tr th:only-of-type {\n",
       "        vertical-align: middle;\n",
       "    }\n",
       "\n",
       "    .dataframe tbody tr th {\n",
       "        vertical-align: top;\n",
       "    }\n",
       "\n",
       "    .dataframe thead th {\n",
       "        text-align: right;\n",
       "    }\n",
       "</style>\n",
       "<table border=\"1\" class=\"dataframe\">\n",
       "  <thead>\n",
       "    <tr style=\"text-align: right;\">\n",
       "      <th></th>\n",
       "      <th>Settore</th>\n",
       "      <th>Tipo finanziamento</th>\n",
       "      <th>Oggetto intervento</th>\n",
       "      <th>Fondi stanziati</th>\n",
       "      <th>Fondi spesi</th>\n",
       "    </tr>\n",
       "  </thead>\n",
       "  <tbody>\n",
       "    <tr>\n",
       "      <th>0</th>\n",
       "      <td>Ambiente</td>\n",
       "      <td>PNRR</td>\n",
       "      <td>Linea d’Intervento A: “Miglioramento e meccani...</td>\n",
       "      <td>948.154.44 €</td>\n",
       "      <td>948.154.44 €</td>\n",
       "    </tr>\n",
       "    <tr>\n",
       "      <th>1</th>\n",
       "      <td>Ambiente</td>\n",
       "      <td>PNRR</td>\n",
       "      <td>Linea d’Intervento A: “Miglioramento e meccani...</td>\n",
       "      <td>966.396.89 €</td>\n",
       "      <td>966.396.89 €</td>\n",
       "    </tr>\n",
       "    <tr>\n",
       "      <th>2</th>\n",
       "      <td>Ambiente</td>\n",
       "      <td>PNRR</td>\n",
       "      <td>Linea d’Intervento A: “Miglioramento e meccani...</td>\n",
       "      <td>978.672.18 €</td>\n",
       "      <td>978.672.18 €</td>\n",
       "    </tr>\n",
       "    <tr>\n",
       "      <th>3</th>\n",
       "      <td>Ambiente</td>\n",
       "      <td>PNRR</td>\n",
       "      <td>Linea d’Intervento A: “Miglioramento e meccani...</td>\n",
       "      <td>846.818.80 €</td>\n",
       "      <td>846.818.80 €</td>\n",
       "    </tr>\n",
       "    <tr>\n",
       "      <th>4</th>\n",
       "      <td>Ambiente</td>\n",
       "      <td>PNRR</td>\n",
       "      <td>Linea d’Intervento A: “Miglioramento e meccani...</td>\n",
       "      <td>677.723.54 €</td>\n",
       "      <td>677.723.54 €</td>\n",
       "    </tr>\n",
       "  </tbody>\n",
       "</table>\n",
       "</div>"
      ],
      "text/plain": [
       "    Settore Tipo finanziamento  \\\n",
       "0  Ambiente               PNRR   \n",
       "1  Ambiente               PNRR   \n",
       "2  Ambiente               PNRR   \n",
       "3  Ambiente               PNRR   \n",
       "4  Ambiente               PNRR   \n",
       "\n",
       "                                  Oggetto intervento Fondi stanziati  \\\n",
       "0  Linea d’Intervento A: “Miglioramento e meccani...    948.154.44 €   \n",
       "1  Linea d’Intervento A: “Miglioramento e meccani...    966.396.89 €   \n",
       "2  Linea d’Intervento A: “Miglioramento e meccani...    978.672.18 €   \n",
       "3  Linea d’Intervento A: “Miglioramento e meccani...    846.818.80 €   \n",
       "4  Linea d’Intervento A: “Miglioramento e meccani...    677.723.54 €   \n",
       "\n",
       "    Fondi spesi  \n",
       "0  948.154.44 €  \n",
       "1  966.396.89 €  \n",
       "2  978.672.18 €  \n",
       "3  846.818.80 €  \n",
       "4  677.723.54 €  "
      ]
     },
     "execution_count": 14,
     "metadata": {},
     "output_type": "execute_result"
    }
   ],
   "source": [
    "df = df.rename(columns={\n",
    "    ' Totale ': 'Fondi spesi',\n",
    "    ' PNNR/PNC ': 'Fondi stanziati',\n",
    "    'Rip.ne/Settore': 'Settore',\n",
    "    'Tipo finanziamento\\n(PNRR - PNC)': 'Tipo finanziamento'\n",
    "\n",
    "})\n",
    "\n",
    "df.head(5)"
   ]
  },
  {
   "cell_type": "markdown",
   "metadata": {},
   "source": [
    "## Map empty values in Fondi spesi with 0 €"
   ]
  },
  {
   "cell_type": "code",
   "execution_count": 15,
   "metadata": {},
   "outputs": [],
   "source": [
    "df['Fondi spesi'] = df['Fondi spesi'].map(\n",
    "    lambda x: \n",
    "        '0' if x == '  ' \n",
    "        else ''.join(x.split(' ')[0].split('.'))\n",
    ").astype(int)"
   ]
  },
  {
   "cell_type": "markdown",
   "metadata": {},
   "source": [
    "## Same operation with Fondi stanziati"
   ]
  },
  {
   "cell_type": "code",
   "execution_count": 16,
   "metadata": {},
   "outputs": [],
   "source": [
    "df['Fondi stanziati'] = df['Fondi stanziati'].map(lambda x: ''.join(x.split(' ')[0].split('.'))).astype(int)"
   ]
  },
  {
   "cell_type": "code",
   "execution_count": 17,
   "metadata": {},
   "outputs": [
    {
     "data": {
      "application/vnd.microsoft.datawrangler.viewer.v0+json": {
       "columns": [
        {
         "name": "index",
         "rawType": "int64",
         "type": "integer"
        },
        {
         "name": "Settore",
         "rawType": "object",
         "type": "string"
        },
        {
         "name": "Tipo finanziamento",
         "rawType": "object",
         "type": "string"
        },
        {
         "name": "Oggetto intervento",
         "rawType": "object",
         "type": "string"
        },
        {
         "name": "Fondi stanziati",
         "rawType": "int64",
         "type": "integer"
        },
        {
         "name": "Fondi spesi",
         "rawType": "int64",
         "type": "integer"
        }
       ],
       "conversionMethod": "pd.DataFrame",
       "ref": "47cb2c3c-cd97-42ef-b629-d04a1ab0d8cf",
       "rows": [
        [
         "49",
         "Manutenzione Alloggi ",
         "PNC",
         "Lavori di risanamento degli immobili di proprieta' comunale di Edilizia Residenziale Pubblica siti in Bari, Q.re San Paolo alla Strada Castelluccio n. 1 - Palazzina 7 (Interventi diretti alla verifica e valutazione della sicurezza sismica, all'efficientame",
         "150989412",
         "173637824"
        ],
        [
         "50",
         "Manutenzione Alloggi ",
         "PNC",
         "Lavori di risanamento degli immobili di proprieta' comunale di Edilizia Residenziale Pubblica siti in Bari, Q.re San Paolo alla Strada Castelluccio n. 1 - Palazzina 8 (Interventi diretti alla verifica e valutazione della sicurezza sismica, all'efficientame",
         "195000000",
         "224250000"
        ],
        [
         "51",
         "Manutenzione Alloggi ",
         "PNC",
         "Lavori di risanamento degli immobili di proprieta' comunale di Edilizia Residenziale Pubblica siti in Bari, Q.re San Paolo alla Strada Castelluccio n. 1 - Palazzina 9 (Interventi diretti alla verifica e valutazione della sicurezza sismica, all'efficientame",
         "195000000",
         "224250000"
        ],
        [
         "52",
         "Manutenzione Alloggi ",
         "PNC",
         "Lavori di risanamento degli immobili di proprieta' comunale di Edilizia Residenziale Pubblica siti in Bari, Q.re Torre a mare, Via Antonio Fenicia n. 2 - Lotto 1 (Interventi diretti alla verifica e valutazione della sicurezza sismica, all'efficientamento e",
         "128000000",
         "147200000"
        ],
        [
         "53",
         "Manutenzione Alloggi ",
         "PNC",
         "Lavori di risanamento degli immobili di proprieta' comunale di Edilizia Residenziale Pubblica siti in Bari, Q.re Torre a mare, Via Antonio Fenicia nn. 4-6 - Palazzine A e B - Lotto 2 (Interventi diretti alla verifica e valutazione della sicurezza sismica, ",
         "173000000",
         "198950000"
        ],
        [
         "54",
         "Manutenzione Alloggi ",
         "PNC",
         "Lavori di risanamento degli immobili di proprieta' comunale di Edilizia Residenziale Pubblica siti in Bari, Q.re Torre a mare, Via Antonio Fenicia n. 8 - Palazzine C e D - Lotto 3 (Interventi diretti alla verifica e valutazione della sicurezza sismica, all",
         "173000000",
         "198950000"
        ],
        [
         "55",
         "Manutenzione Alloggi ",
         "PNC",
         "Lavori di risanamento degli immobili di proprieta' comunale di Edilizia Residenziale Pubblica siti in Bari, Q.re Torre a mare, Via Antonio Fenicia nn. 3-5-7 - Lotto 4 (Interventi diretti alla verifica e valutazione della sicurezza sismica, all'efficientame",
         "200000000",
         "230000000"
        ],
        [
         "56",
         "Manutenzione Alloggi ",
         "PNC",
         "Lavori di risanamento degli immobili di proprieta' comunale di Edilizia Residenziale Pubblica siti in Bari, Q.re Santa Rita, Via del Monastero nn. 2-4-6-8 - Palazzine A1-A2-A3-A4 (Interventi diretti alla verifica e valutazione della sicurezza sismica, all'",
         "166500000",
         "191475000"
        ],
        [
         "57",
         "Manutenzione Alloggi ",
         "PNC",
         "Lavori di risanamento degli immobili di proprieta' comunale di Edilizia Residenziale Pubblica siti in Bari, Q.re Santa Rita, Via del Monastero nn. 10-12-14-16 - Palazzine A5-A6-A7-A8 (Interventi diretti alla verifica e valutazione della sicurezza sismica, ",
         "166000000",
         "190900000"
        ],
        [
         "58",
         "Manutenzione Alloggi ",
         "PNC",
         "Lavori di risanamento degli immobili di proprieta' comunale di Edilizia Residenziale Pubblica siti in Bari, Q.re Santa Rita, Via del Monastero nn. 1-3-5-7-9 - Palazzine B1-B2-B3-B4-B5 (Interventi diretti alla verifica e valutazione della sicurezza sismica,",
         "208000000",
         "228789114"
        ],
        [
         "59",
         "Manutenzione Alloggi ",
         "PNC",
         "Lavori di risanamento degli immobili di proprieta' comunale di Edilizia Residenziale Pubblica siti in Bari, Q.re Santa Rita, Via Roccaporena nn. 14-16-18-20-22 - Palazzine B6-B7-B8-B9-B10 (Interventi diretti alla verifica e valutazione della sicurezza sism",
         "208000000",
         "226297564"
        ],
        [
         "60",
         "Manutenzione Alloggi ",
         "PNC",
         "Lavori di risanamento degli immobili di proprieta' comunale di Edilizia Residenziale Pubblica siti in Bari, Q.re Santa Rita, Via dello scoglio nn. 2-4-6-8-10-12 - Palazzine D1-D2-D3-D4-D5-D6 (Interventi diretti alla verifica e valutazione della sicurezza s",
         "250000000",
         "284197795"
        ],
        [
         "61",
         "Manutenzione Alloggi ",
         "PNC",
         "Lavori di risanamento degli immobili di proprieta' comunale di Edilizia Residenziale Pubblica siti in Bari, Q.re Santa Rita, Via Roccaporena nn. 2-4-6-8-10-12 - Palazzine E1-E2-E3-E4-E5-E6 (Interventi diretti alla verifica e valutazione della sicurezza sis",
         "212912494",
         "274490190"
        ],
        [
         "62",
         "Manutenzione Alloggi ",
         "PNRR",
         "Lavori di efficientamento energetico con sostituzione degli infissi degli immobili di proprieta' comunale di Edilizia Residenziale Pubblica siti in Bari-Ceglie del Campo, Quartiere Santa Rita - Edifici A, B, C, D, E, F nell'ambito del progetto di rigenerazione denominato \"Santa Rita, il quartiere che abbraccia la cava\"",
         "363432760",
         "436119312"
        ],
        [
         "65",
         "Patrimonio",
         "PNRR",
         "Riqualificazione sociale di bene confiscato alla mafia - Micronido d'infanzia",
         "150000000",
         "165000000"
        ],
        [
         "66",
         "Patrimonio",
         "PNRR",
         "Riqualificazione sociale di bene confiscato alla mafia - Fattoria sociale",
         "360000000",
         "396000000"
        ],
        [
         "67",
         "Urbanistica",
         "PNC",
         "Bari Costasud - Parco Costiero della cultura, del turismo, dell'ambiente - LOTTO 1 - Parco Costiero \"Pane e Pomodoro\"",
         "1286689261",
         "1479692650"
        ],
        [
         "68",
         "Urbanistica",
         "PNC",
         "Bari Costasud - Parco Costiero della cultura, del turismo, dell'ambiente - LOTTO 2 - Parco Costiero \"Torre Quetta\"",
         "1327600053",
         "1526740061"
        ],
        [
         "69",
         "Urbanistica",
         "PNC",
         "Bari Costasud - Parco Costiero della cultura, del turismo, dell'ambiente - LOTTO 3 - Parco Costiero \"Torre Carnosa\"",
         "998094655",
         "1147808853"
        ],
        [
         "70",
         "Urbanistica",
         "PNC",
         "Bari Costasud - Parco Costiero della cultura, del turismo, dell'ambiente - LOTTO 4 - Parco \"Valenzano\"",
         "1096166947",
         "1260591989"
        ],
        [
         "71",
         "Urbanistica",
         "PNC",
         "Bari Costasud - Parco Costiero della cultura, del turismo, dell'ambiente - LOTTO 5 - Parco \"Reticolare\"",
         "1324654601",
         "1523352791"
        ],
        [
         "72",
         "Urbanistica",
         "PNC",
         "Bari Costasud - Parco Costiero della cultura, del turismo, dell'ambiente - LOTTO 6 - Parco \"Bellavista\"",
         "1466794483",
         "1686813655"
        ],
        [
         "73",
         "Urbanistica",
         "PNRR",
         "Bari Centrale: Nuovo Hub per la riconnessione urbana e la mobilita' sostenibile, nuovo parco urbano e rinnovamento delle aree esterne",
         "9660000000",
         "14799210023"
        ],
        [
         "75",
         "Welfare",
         "PNRR",
         "Rafforzamento dei servizi sociali domiciliari per garantire la dimissione anticipata assistita e prevenire l’ospedalizzazione",
         "33000000",
         "90489000"
        ]
       ],
       "shape": {
        "columns": 5,
        "rows": 24
       }
      },
      "text/html": [
       "<div>\n",
       "<style scoped>\n",
       "    .dataframe tbody tr th:only-of-type {\n",
       "        vertical-align: middle;\n",
       "    }\n",
       "\n",
       "    .dataframe tbody tr th {\n",
       "        vertical-align: top;\n",
       "    }\n",
       "\n",
       "    .dataframe thead th {\n",
       "        text-align: right;\n",
       "    }\n",
       "</style>\n",
       "<table border=\"1\" class=\"dataframe\">\n",
       "  <thead>\n",
       "    <tr style=\"text-align: right;\">\n",
       "      <th></th>\n",
       "      <th>Settore</th>\n",
       "      <th>Tipo finanziamento</th>\n",
       "      <th>Oggetto intervento</th>\n",
       "      <th>Fondi stanziati</th>\n",
       "      <th>Fondi spesi</th>\n",
       "    </tr>\n",
       "  </thead>\n",
       "  <tbody>\n",
       "    <tr>\n",
       "      <th>49</th>\n",
       "      <td>Manutenzione Alloggi</td>\n",
       "      <td>PNC</td>\n",
       "      <td>Lavori di risanamento degli immobili di propri...</td>\n",
       "      <td>150989412</td>\n",
       "      <td>173637824</td>\n",
       "    </tr>\n",
       "    <tr>\n",
       "      <th>50</th>\n",
       "      <td>Manutenzione Alloggi</td>\n",
       "      <td>PNC</td>\n",
       "      <td>Lavori di risanamento degli immobili di propri...</td>\n",
       "      <td>195000000</td>\n",
       "      <td>224250000</td>\n",
       "    </tr>\n",
       "    <tr>\n",
       "      <th>51</th>\n",
       "      <td>Manutenzione Alloggi</td>\n",
       "      <td>PNC</td>\n",
       "      <td>Lavori di risanamento degli immobili di propri...</td>\n",
       "      <td>195000000</td>\n",
       "      <td>224250000</td>\n",
       "    </tr>\n",
       "    <tr>\n",
       "      <th>52</th>\n",
       "      <td>Manutenzione Alloggi</td>\n",
       "      <td>PNC</td>\n",
       "      <td>Lavori di risanamento degli immobili di propri...</td>\n",
       "      <td>128000000</td>\n",
       "      <td>147200000</td>\n",
       "    </tr>\n",
       "    <tr>\n",
       "      <th>53</th>\n",
       "      <td>Manutenzione Alloggi</td>\n",
       "      <td>PNC</td>\n",
       "      <td>Lavori di risanamento degli immobili di propri...</td>\n",
       "      <td>173000000</td>\n",
       "      <td>198950000</td>\n",
       "    </tr>\n",
       "    <tr>\n",
       "      <th>54</th>\n",
       "      <td>Manutenzione Alloggi</td>\n",
       "      <td>PNC</td>\n",
       "      <td>Lavori di risanamento degli immobili di propri...</td>\n",
       "      <td>173000000</td>\n",
       "      <td>198950000</td>\n",
       "    </tr>\n",
       "    <tr>\n",
       "      <th>55</th>\n",
       "      <td>Manutenzione Alloggi</td>\n",
       "      <td>PNC</td>\n",
       "      <td>Lavori di risanamento degli immobili di propri...</td>\n",
       "      <td>200000000</td>\n",
       "      <td>230000000</td>\n",
       "    </tr>\n",
       "    <tr>\n",
       "      <th>56</th>\n",
       "      <td>Manutenzione Alloggi</td>\n",
       "      <td>PNC</td>\n",
       "      <td>Lavori di risanamento degli immobili di propri...</td>\n",
       "      <td>166500000</td>\n",
       "      <td>191475000</td>\n",
       "    </tr>\n",
       "    <tr>\n",
       "      <th>57</th>\n",
       "      <td>Manutenzione Alloggi</td>\n",
       "      <td>PNC</td>\n",
       "      <td>Lavori di risanamento degli immobili di propri...</td>\n",
       "      <td>166000000</td>\n",
       "      <td>190900000</td>\n",
       "    </tr>\n",
       "    <tr>\n",
       "      <th>58</th>\n",
       "      <td>Manutenzione Alloggi</td>\n",
       "      <td>PNC</td>\n",
       "      <td>Lavori di risanamento degli immobili di propri...</td>\n",
       "      <td>208000000</td>\n",
       "      <td>228789114</td>\n",
       "    </tr>\n",
       "    <tr>\n",
       "      <th>59</th>\n",
       "      <td>Manutenzione Alloggi</td>\n",
       "      <td>PNC</td>\n",
       "      <td>Lavori di risanamento degli immobili di propri...</td>\n",
       "      <td>208000000</td>\n",
       "      <td>226297564</td>\n",
       "    </tr>\n",
       "    <tr>\n",
       "      <th>60</th>\n",
       "      <td>Manutenzione Alloggi</td>\n",
       "      <td>PNC</td>\n",
       "      <td>Lavori di risanamento degli immobili di propri...</td>\n",
       "      <td>250000000</td>\n",
       "      <td>284197795</td>\n",
       "    </tr>\n",
       "    <tr>\n",
       "      <th>61</th>\n",
       "      <td>Manutenzione Alloggi</td>\n",
       "      <td>PNC</td>\n",
       "      <td>Lavori di risanamento degli immobili di propri...</td>\n",
       "      <td>212912494</td>\n",
       "      <td>274490190</td>\n",
       "    </tr>\n",
       "    <tr>\n",
       "      <th>62</th>\n",
       "      <td>Manutenzione Alloggi</td>\n",
       "      <td>PNRR</td>\n",
       "      <td>Lavori di efficientamento energetico con sosti...</td>\n",
       "      <td>363432760</td>\n",
       "      <td>436119312</td>\n",
       "    </tr>\n",
       "    <tr>\n",
       "      <th>65</th>\n",
       "      <td>Patrimonio</td>\n",
       "      <td>PNRR</td>\n",
       "      <td>Riqualificazione sociale di bene confiscato al...</td>\n",
       "      <td>150000000</td>\n",
       "      <td>165000000</td>\n",
       "    </tr>\n",
       "    <tr>\n",
       "      <th>66</th>\n",
       "      <td>Patrimonio</td>\n",
       "      <td>PNRR</td>\n",
       "      <td>Riqualificazione sociale di bene confiscato al...</td>\n",
       "      <td>360000000</td>\n",
       "      <td>396000000</td>\n",
       "    </tr>\n",
       "    <tr>\n",
       "      <th>67</th>\n",
       "      <td>Urbanistica</td>\n",
       "      <td>PNC</td>\n",
       "      <td>Bari Costasud - Parco Costiero della cultura, ...</td>\n",
       "      <td>1286689261</td>\n",
       "      <td>1479692650</td>\n",
       "    </tr>\n",
       "    <tr>\n",
       "      <th>68</th>\n",
       "      <td>Urbanistica</td>\n",
       "      <td>PNC</td>\n",
       "      <td>Bari Costasud - Parco Costiero della cultura, ...</td>\n",
       "      <td>1327600053</td>\n",
       "      <td>1526740061</td>\n",
       "    </tr>\n",
       "    <tr>\n",
       "      <th>69</th>\n",
       "      <td>Urbanistica</td>\n",
       "      <td>PNC</td>\n",
       "      <td>Bari Costasud - Parco Costiero della cultura, ...</td>\n",
       "      <td>998094655</td>\n",
       "      <td>1147808853</td>\n",
       "    </tr>\n",
       "    <tr>\n",
       "      <th>70</th>\n",
       "      <td>Urbanistica</td>\n",
       "      <td>PNC</td>\n",
       "      <td>Bari Costasud - Parco Costiero della cultura, ...</td>\n",
       "      <td>1096166947</td>\n",
       "      <td>1260591989</td>\n",
       "    </tr>\n",
       "    <tr>\n",
       "      <th>71</th>\n",
       "      <td>Urbanistica</td>\n",
       "      <td>PNC</td>\n",
       "      <td>Bari Costasud - Parco Costiero della cultura, ...</td>\n",
       "      <td>1324654601</td>\n",
       "      <td>1523352791</td>\n",
       "    </tr>\n",
       "    <tr>\n",
       "      <th>72</th>\n",
       "      <td>Urbanistica</td>\n",
       "      <td>PNC</td>\n",
       "      <td>Bari Costasud - Parco Costiero della cultura, ...</td>\n",
       "      <td>1466794483</td>\n",
       "      <td>1686813655</td>\n",
       "    </tr>\n",
       "    <tr>\n",
       "      <th>73</th>\n",
       "      <td>Urbanistica</td>\n",
       "      <td>PNRR</td>\n",
       "      <td>Bari Centrale: Nuovo Hub per la riconnessione ...</td>\n",
       "      <td>9660000000</td>\n",
       "      <td>14799210023</td>\n",
       "    </tr>\n",
       "    <tr>\n",
       "      <th>75</th>\n",
       "      <td>Welfare</td>\n",
       "      <td>PNRR</td>\n",
       "      <td>Rafforzamento dei servizi sociali domiciliari ...</td>\n",
       "      <td>33000000</td>\n",
       "      <td>90489000</td>\n",
       "    </tr>\n",
       "  </tbody>\n",
       "</table>\n",
       "</div>"
      ],
      "text/plain": [
       "                  Settore Tipo finanziamento  \\\n",
       "49  Manutenzione Alloggi                 PNC   \n",
       "50  Manutenzione Alloggi                 PNC   \n",
       "51  Manutenzione Alloggi                 PNC   \n",
       "52  Manutenzione Alloggi                 PNC   \n",
       "53  Manutenzione Alloggi                 PNC   \n",
       "54  Manutenzione Alloggi                 PNC   \n",
       "55  Manutenzione Alloggi                 PNC   \n",
       "56  Manutenzione Alloggi                 PNC   \n",
       "57  Manutenzione Alloggi                 PNC   \n",
       "58  Manutenzione Alloggi                 PNC   \n",
       "59  Manutenzione Alloggi                 PNC   \n",
       "60  Manutenzione Alloggi                 PNC   \n",
       "61  Manutenzione Alloggi                 PNC   \n",
       "62  Manutenzione Alloggi                PNRR   \n",
       "65             Patrimonio               PNRR   \n",
       "66             Patrimonio               PNRR   \n",
       "67            Urbanistica                PNC   \n",
       "68            Urbanistica                PNC   \n",
       "69            Urbanistica                PNC   \n",
       "70            Urbanistica                PNC   \n",
       "71            Urbanistica                PNC   \n",
       "72            Urbanistica                PNC   \n",
       "73            Urbanistica               PNRR   \n",
       "75                Welfare               PNRR   \n",
       "\n",
       "                                   Oggetto intervento  Fondi stanziati  \\\n",
       "49  Lavori di risanamento degli immobili di propri...        150989412   \n",
       "50  Lavori di risanamento degli immobili di propri...        195000000   \n",
       "51  Lavori di risanamento degli immobili di propri...        195000000   \n",
       "52  Lavori di risanamento degli immobili di propri...        128000000   \n",
       "53  Lavori di risanamento degli immobili di propri...        173000000   \n",
       "54  Lavori di risanamento degli immobili di propri...        173000000   \n",
       "55  Lavori di risanamento degli immobili di propri...        200000000   \n",
       "56  Lavori di risanamento degli immobili di propri...        166500000   \n",
       "57  Lavori di risanamento degli immobili di propri...        166000000   \n",
       "58  Lavori di risanamento degli immobili di propri...        208000000   \n",
       "59  Lavori di risanamento degli immobili di propri...        208000000   \n",
       "60  Lavori di risanamento degli immobili di propri...        250000000   \n",
       "61  Lavori di risanamento degli immobili di propri...        212912494   \n",
       "62  Lavori di efficientamento energetico con sosti...        363432760   \n",
       "65  Riqualificazione sociale di bene confiscato al...        150000000   \n",
       "66  Riqualificazione sociale di bene confiscato al...        360000000   \n",
       "67  Bari Costasud - Parco Costiero della cultura, ...       1286689261   \n",
       "68  Bari Costasud - Parco Costiero della cultura, ...       1327600053   \n",
       "69  Bari Costasud - Parco Costiero della cultura, ...        998094655   \n",
       "70  Bari Costasud - Parco Costiero della cultura, ...       1096166947   \n",
       "71  Bari Costasud - Parco Costiero della cultura, ...       1324654601   \n",
       "72  Bari Costasud - Parco Costiero della cultura, ...       1466794483   \n",
       "73  Bari Centrale: Nuovo Hub per la riconnessione ...       9660000000   \n",
       "75  Rafforzamento dei servizi sociali domiciliari ...         33000000   \n",
       "\n",
       "    Fondi spesi  \n",
       "49    173637824  \n",
       "50    224250000  \n",
       "51    224250000  \n",
       "52    147200000  \n",
       "53    198950000  \n",
       "54    198950000  \n",
       "55    230000000  \n",
       "56    191475000  \n",
       "57    190900000  \n",
       "58    228789114  \n",
       "59    226297564  \n",
       "60    284197795  \n",
       "61    274490190  \n",
       "62    436119312  \n",
       "65    165000000  \n",
       "66    396000000  \n",
       "67   1479692650  \n",
       "68   1526740061  \n",
       "69   1147808853  \n",
       "70   1260591989  \n",
       "71   1523352791  \n",
       "72   1686813655  \n",
       "73  14799210023  \n",
       "75     90489000  "
      ]
     },
     "execution_count": 17,
     "metadata": {},
     "output_type": "execute_result"
    }
   ],
   "source": [
    "df[df['Fondi spesi'] > df['Fondi stanziati']]"
   ]
  },
  {
   "cell_type": "code",
   "execution_count": 18,
   "metadata": {},
   "outputs": [],
   "source": [
    "df.to_csv('PNRR_31-01-2024_modificato.csv', sep='\\t')"
   ]
  }
 ],
 "metadata": {
  "kernelspec": {
   "display_name": "Python 3",
   "language": "python",
   "name": "python3"
  },
  "language_info": {
   "codemirror_mode": {
    "name": "ipython",
    "version": 3
   },
   "file_extension": ".py",
   "mimetype": "text/x-python",
   "name": "python",
   "nbconvert_exporter": "python",
   "pygments_lexer": "ipython3",
   "version": "3.12.2"
  }
 },
 "nbformat": 4,
 "nbformat_minor": 2
}
