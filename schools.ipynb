{
 "cells": [
  {
   "cell_type": "markdown",
   "metadata": {},
   "source": [
    "# Bari's schools dataset"
   ]
  },
  {
   "cell_type": "code",
   "execution_count": 32,
   "metadata": {},
   "outputs": [],
   "source": [
    "import numpy as np\n",
    "import pandas as pd"
   ]
  },
  {
   "cell_type": "markdown",
   "metadata": {},
   "source": [
    "## Import, Select and Clean the data"
   ]
  },
  {
   "cell_type": "code",
   "execution_count": 33,
   "metadata": {},
   "outputs": [],
   "source": [
    "df = pd.read_csv(\"Raw Datasets/Elenco_scuole_2023_2024.csv\")"
   ]
  },
  {
   "cell_type": "code",
   "execution_count": 34,
   "metadata": {},
   "outputs": [],
   "source": [
    "# Drop all the row with at least one na value\n",
    "df.dropna(axis=0, inplace=True)"
   ]
  },
  {
   "cell_type": "code",
   "execution_count": 35,
   "metadata": {},
   "outputs": [],
   "source": [
    "df.drop(['pec', 'plesso', 'dirigente', 'email', 'tel', 'fax', 'municipio', 'proprietario', 'n_refettori', 'n_segreteria', \n",
    "        'n_ambienti_destinati_al_dirigente_scolastico', 'n_archivio', 'n_sale_riunioni', 'n_locali_concessi_a_enti_in_orario_scolastico',\n",
    "        'n_locali_concessi_a_enti_in_orario_extrascolastico',\n",
    "        'n_locali_concessi_a_enti_in_orario_entrambi', 'ore_articolate_su_gg',\n",
    "        'n_ore_a_tempo_normale', 'n_ore_a_tempo_prolungato',\n",
    "        'n_ore_a_tempo_pieno', 'n_ore_serale', 'n_alunni_refezione',\n",
    "        'n_alunni_refezione_tempo_pieno', 'n_alunni_rientro_settimanale', 'n_alunni_stranieri',\n",
    "        'n_classi_alunni_stranieri', 'n_alunni_inadempienti', 'iscritti_f',\n",
    "        'iscritti_m', 'frequentanti_f', 'frequentanti_m', 'n_mediatori_culturali', 'matricola_aqp'], \n",
    "        axis=1, inplace=True)"
   ]
  },
  {
   "cell_type": "markdown",
   "metadata": {},
   "source": [
    "Format the address to match the Geopandas queries"
   ]
  },
  {
   "cell_type": "code",
   "execution_count": 36,
   "metadata": {},
   "outputs": [],
   "source": [
    "df['indirizzo'] = df['indirizzo'] + \", Bari, Apulia, Italy\""
   ]
  },
  {
   "cell_type": "code",
   "execution_count": 37,
   "metadata": {},
   "outputs": [],
   "source": [
    "address_list = df['indirizzo'].drop_duplicates().to_list()"
   ]
  },
  {
   "cell_type": "code",
   "execution_count": 38,
   "metadata": {},
   "outputs": [
    {
     "data": {
      "text/plain": [
       "['VIA DELLA TOLLERANZA, Bari, Apulia, Italy',\n",
       " 'VIA DALMAZIA, Bari, Apulia, Italy',\n",
       " 'PIAZZETTA ELEONORA, Bari, Apulia, Italy',\n",
       " 'VIA LUCCA, Bari, Apulia, Italy',\n",
       " 'L.GO CARABELLESE 1 BARI, Bari, Apulia, Italy',\n",
       " 'VIA GOBETTI 1, Bari, Apulia, Italy',\n",
       " 'VIA LUIGI PINTO 1, Bari, Apulia, Italy',\n",
       " 'VIA ZANARDELLI 16, Bari, Apulia, Italy',\n",
       " 'VIA RE DAVID 179, Bari, Apulia, Italy',\n",
       " 'CORSO ALCIDE DE GASPERI 345, Bari, Apulia, Italy']"
      ]
     },
     "execution_count": 38,
     "metadata": {},
     "output_type": "execute_result"
    }
   ],
   "source": [
    "# First 10 address in the list\n",
    "address_list[0:10]"
   ]
  },
  {
   "cell_type": "markdown",
   "metadata": {},
   "source": [
    "## Schools Lat & long extraction"
   ]
  },
  {
   "cell_type": "code",
   "execution_count": 39,
   "metadata": {},
   "outputs": [],
   "source": [
    "import geopandas as gpd\n",
    "import matplotlib.pyplot as plt\n",
    "\n",
    "from geopy import Nominatim\n",
    "from geopy.exc import GeocoderTimedOut"
   ]
  },
  {
   "cell_type": "markdown",
   "metadata": {},
   "source": [
    "### Geocoding of the points"
   ]
  },
  {
   "cell_type": "code",
   "execution_count": 40,
   "metadata": {},
   "outputs": [],
   "source": [
    "geocoder = Nominatim(user_agent='user_agent')\n",
    "coordinate = {}\n",
    "errors = []\n",
    "\n",
    "for address in address_list:\n",
    "    try:\n",
    "        # print(address)\n",
    "        coordinate[address] = geocoder.geocode(address)[1]\n",
    "    except (GeocoderTimedOut, TypeError):\n",
    "        errors.append(address)"
   ]
  },
  {
   "cell_type": "code",
   "execution_count": 41,
   "metadata": {},
   "outputs": [
    {
     "data": {
      "text/plain": [
       "['PIAZZALE PUGLIESE 1, Bari, Apulia, Italy',\n",
       " 'via G. Tauro, Bari, Apulia, Italy',\n",
       " 'Via Don Gnocchi snc, Bari, Apulia, Italy',\n",
       " 'viale G. BARTOLO N.8, Bari, Apulia, Italy',\n",
       " 'PIAZA GIULIO CESARE 11, Bari, Apulia, Italy',\n",
       " 'VIA SUPPA N. 7, Bari, Apulia, Italy',\n",
       " 'V.LE LEONARDO DEL TURCO, Bari, Apulia, Italy',\n",
       " 'VIA CALDAROLA (POLIV.), Bari, Apulia, Italy',\n",
       " 'CORSO DE GASPERI 307, Bari, Apulia, Italy',\n",
       " 'Via R. Bovio 19/A, Bari, Apulia, Italy',\n",
       " 'VIA CALDAROLA CENTRO STUDI POLIVALENTE BARI, Bari, Apulia, Italy',\n",
       " 'piazzetta eleonore, Bari, Apulia, Italy',\n",
       " 'Via C. Ulpiani n. 9, Bari, Apulia, Italy',\n",
       " 'via laetitia abbaticola 2, Bari, Apulia, Italy',\n",
       " 'via Nicola Costa 2 - 4, Bari, Apulia, Italy',\n",
       " 'Via V. Veneto n. 189, Bari, Apulia, Italy',\n",
       " 'TRAV.2^ VIA UMBRIA 5, Bari, Apulia, Italy',\n",
       " 'Via Del Quadrifoglio 14, Bari, Apulia, Italy',\n",
       " 'via F. Campione 27, Bari, Apulia, Italy',\n",
       " 'Via dei Bersaglieri 11, Bari, Apulia, Italy',\n",
       " 'VIA DEL FARO 8/A, Bari, Apulia, Italy']"
      ]
     },
     "execution_count": 41,
     "metadata": {},
     "output_type": "execute_result"
    }
   ],
   "source": [
    "# Address that does not have a lat&long\n",
    "errors"
   ]
  },
  {
   "cell_type": "code",
   "execution_count": 45,
   "metadata": {},
   "outputs": [],
   "source": [
    "handmade_coords = {\n",
    "    \"L.GO CARABELLESE 1 BARI, Bari, Apulia, Italy\": (41.12072, 16.87869),\n",
    "    \"PIAZZALE PUGLIESE 1, Bari, Apulia, Italy\": (41.09211, 16.89051),\n",
    "    \"via G. Tauro, Bari, Apulia, Italy\": (41.09996, 16.86110),\n",
    "    \"Via Don Gnocchi snc, Bari, Apulia, Italy\": (41.12991, 16.78562),\n",
    "    \"viale G. BARTOLO N.8, Bari, Apulia, Italy\": (41.09384, 16.85765),\n",
    "    \"PIAZA GIULIO CESARE 11, Bari, Apulia, Italy\": (41.11219, 16.86176),\n",
    "    \"V.LE LEONARDO DEL TURCO, Bari, Apulia, Italy\": (41.15107, 16.75537),\n",
    "    \"VIA CALDAROLA (POLIV.), Bari, Apulia, Italy\": (41.10245, 16.91040),\n",
    "    \"Via R. Bovio 19/A, Bari, Apulia, Italy\": (41.12288, 16.85923),\n",
    "    \"VIA CALDAROLA CENTRO STUDI POLIVALENTE BARI, Bari, Apulia, Italy\": (41.10614, 16.90050),\n",
    "    \"piazzetta eleonore, Bari, Apulia, Italy\": (41.14846, 16.73927),\n",
    "    \"Via C. Ulpiani n. 9, Bari, Apulia, Italy\": (41.11169, 16.87950),\n",
    "    \"via laetitia abbaticola 2, Bari, Apulia, Italy\": (41.10047, 16.88706),\n",
    "    \"via Nicola Costa 2 - 4, Bari, Apulia, Italy\": (41.13589, 16.81887),\n",
    "    \"Via V. Veneto n. 189, Bari, Apulia, Italy\": (41.06827, 16.86963),\n",
    "    \"TRAV.2^ VIA UMBRIA 5, Bari, Apulia, Italy\": (41.12171, 16.79384),\n",
    "    \"Via Del Quadrifoglio 14, Bari, Apulia, Italy\": (41.15381, 16.76990),\n",
    "    \"via F. Campione 27, Bari, Apulia, Italy\": (41.11289, 16.86545),\n",
    "    \"Corso Alcide De Gasperi 378, Bari, Apulia, Italy\": (41.07993, 16.87203),\n",
    "    \"Via Giustino Fortunato 8/m, Bari, Apulia, Italy\": (41.10451, 16.88094),\n",
    "    \"VIA SUPPA N. 7, Bari, Apulia, Italy\": (41.119228, 16.867515),\n",
    "    \"Via Papa Giovanni XXIII N.55 - 70124  BARI, Bari, Apulia, Italy\": (41.107169, 16.869964),\n",
    "    \"CORSO DE GASPERI 307, Bari, Apulia, Italy\": (41.106477, 16.871666),\n",
    "    \"Strada San Giacomo 2, Bari, Apulia, Italy\": (41.127982, 16.868007),\n",
    "    \"VIA DEL FARO 8/A, Bari, Apulia, Italy\": (41.137719, 16.844382),\n",
    "    \"Via Giulio Petroni 90, Bari, Apulia, Italy\": (41.106222, 16.867659),\n",
    "    \"VIA RAVANAS 1, Bari, Apulia, Italy\": (41.127539, 16.858227),\n",
    "    \"via Timavo 25, Bari, Apulia, Italy\": (41.109722, 16.865918),\n",
    "    \"Via dei Bersaglieri 11, Bari, Apulia, Italy\": (41.116875, 16.884277)\n",
    "}"
   ]
  },
  {
   "cell_type": "markdown",
   "metadata": {},
   "source": [
    "On each different execution of the notebook the localization library fails on different addresses, checks on each execution if a new address should be inserted into the error set"
   ]
  },
  {
   "cell_type": "code",
   "execution_count": null,
   "metadata": {},
   "outputs": [],
   "source": [
    "# # DEBUG AREA: this peace of code print the address that don't have a lat&long\n",
    "# for e in errors:\n",
    "#     if e not in handmade_coords:\n",
    "#         print(e)"
   ]
  },
  {
   "cell_type": "markdown",
   "metadata": {},
   "source": [
    "Add schools coordinates"
   ]
  },
  {
   "cell_type": "code",
   "execution_count": 50,
   "metadata": {},
   "outputs": [],
   "source": [
    "df['Lat'] = df['indirizzo'].map(lambda x: coordinate[x][0] if x in coordinate.keys() else handmade_coords[x][0])\n",
    "df['Lon'] = df['indirizzo'].map(lambda x: coordinate[x][1] if x in coordinate.keys() else handmade_coords[x][1])"
   ]
  },
  {
   "cell_type": "code",
   "execution_count": 51,
   "metadata": {},
   "outputs": [],
   "source": [
    "gdf = gpd.GeoDataFrame(\n",
    "    df,\n",
    "    geometry=gpd.points_from_xy(df['Lon'], df['Lat']), crs=\"EPSG:4326\"\n",
    ")"
   ]
  },
  {
   "cell_type": "code",
   "execution_count": 52,
   "metadata": {},
   "outputs": [
    {
     "data": {
      "text/plain": [
       "<Axes: >"
      ]
     },
     "execution_count": 52,
     "metadata": {},
     "output_type": "execute_result"
    },
    {
     "data": {
      "image/png": "[encoded data removed]",
      "text/plain": [
       "<Figure size 640x480 with 1 Axes>"
      ]
     },
     "metadata": {},
     "output_type": "display_data"
    }
   ],
   "source": [
    "gdf.plot()"
   ]
  },
  {
   "cell_type": "markdown",
   "metadata": {},
   "source": [
    "## Mapping geometry\n",
    "Mapping the geometry of the districts at every point they contain"
   ]
  },
  {
   "cell_type": "code",
   "execution_count": 53,
   "metadata": {},
   "outputs": [],
   "source": [
    "quartieri_sf = gpd.read_file(\"Raw Datasets/Quartieri_Bari/Quartieri.shp\")"
   ]
  },
  {
   "cell_type": "code",
   "execution_count": 56,
   "metadata": {},
   "outputs": [
    {
     "ename": "AttributeError",
     "evalue": "'NoneType' object has no attribute 'copy'",
     "output_type": "error",
     "traceback": [
      "\u001b[1;31m---------------------------------------------------------------------------\u001b[0m",
      "\u001b[1;31mAttributeError\u001b[0m                            Traceback (most recent call last)",
      "File \u001b[1;32md:\\Università\\Magistrale-Data Science\\Vis dei dati\\Security_views_Bari\\vdvar-env\\Lib\\site-packages\\IPython\\core\\formatters.py:402\u001b[0m, in \u001b[0;36mBaseFormatter.__call__\u001b[1;34m(self, obj)\u001b[0m\n\u001b[0;32m    400\u001b[0m     \u001b[38;5;28;01mpass\u001b[39;00m\n\u001b[0;32m    401\u001b[0m \u001b[38;5;28;01melse\u001b[39;00m:\n\u001b[1;32m--> 402\u001b[0m     \u001b[38;5;28;01mreturn\u001b[39;00m \u001b[43mprinter\u001b[49m\u001b[43m(\u001b[49m\u001b[43mobj\u001b[49m\u001b[43m)\u001b[49m\n\u001b[0;32m    403\u001b[0m \u001b[38;5;66;03m# Finally look for special method names\u001b[39;00m\n\u001b[0;32m    404\u001b[0m method \u001b[38;5;241m=\u001b[39m get_real_method(obj, \u001b[38;5;28mself\u001b[39m\u001b[38;5;241m.\u001b[39mprint_method)\n",
      "Cell \u001b[1;32mIn[2], line 227\u001b[0m, in \u001b[0;36m__DW_OUTPUT_FORMATTER__.<locals>.DataWrangler.formatter\u001b[1;34m(cls, var, **kwargs)\u001b[0m\n\u001b[0;32m    225\u001b[0m \u001b[38;5;129m@classmethod\u001b[39m\n\u001b[0;32m    226\u001b[0m \u001b[38;5;28;01mdef\u001b[39;00m\u001b[38;5;250m \u001b[39m\u001b[38;5;21mformatter\u001b[39m(\u001b[38;5;28mcls\u001b[39m, var, \u001b[38;5;241m*\u001b[39m\u001b[38;5;241m*\u001b[39mkwargs):\n\u001b[1;32m--> 227\u001b[0m     s \u001b[38;5;241m=\u001b[39m \u001b[38;5;28;43mcls\u001b[39;49m\u001b[43m(\u001b[49m\u001b[43mvar\u001b[49m\u001b[43m,\u001b[49m\u001b[43m \u001b[49m\u001b[38;5;241;43m*\u001b[39;49m\u001b[38;5;241;43m*\u001b[39;49m\u001b[43mkwargs\u001b[49m\u001b[43m)\u001b[49m\n\u001b[0;32m    228\u001b[0m     \u001b[38;5;28;01mreturn\u001b[39;00m s\u001b[38;5;241m.\u001b[39m_repr_dw_()\n",
      "Cell \u001b[1;32mIn[2], line 221\u001b[0m, in \u001b[0;36m__DW_OUTPUT_FORMATTER__.<locals>.DataWrangler.__init__\u001b[1;34m(self, expr_val)\u001b[0m\n\u001b[0;32m    218\u001b[0m \u001b[38;5;28mself\u001b[39m\u001b[38;5;241m.\u001b[39mid \u001b[38;5;241m=\u001b[39m \u001b[38;5;28mstr\u001b[39m(uuid\u001b[38;5;241m.\u001b[39muuid4())\n\u001b[0;32m    219\u001b[0m pandas_df, conversion_method \u001b[38;5;241m=\u001b[39m api[\u001b[38;5;124m\"\u001b[39m\u001b[38;5;124mpandas_transport\u001b[39m\u001b[38;5;124m\"\u001b[39m][\u001b[38;5;124m\"\u001b[39m\u001b[38;5;124mconvert_to_pandas\u001b[39m\u001b[38;5;124m\"\u001b[39m](expr_val)\n\u001b[0;32m    220\u001b[0m tmp_vars[\u001b[38;5;28mself\u001b[39m\u001b[38;5;241m.\u001b[39mid] \u001b[38;5;241m=\u001b[39m {\n\u001b[1;32m--> 221\u001b[0m     \u001b[38;5;124m\"\u001b[39m\u001b[38;5;124mconverted\u001b[39m\u001b[38;5;124m\"\u001b[39m: \u001b[43mpandas_df\u001b[49m\u001b[38;5;241;43m.\u001b[39;49m\u001b[43mcopy\u001b[49m(deep\u001b[38;5;241m=\u001b[39m\u001b[38;5;28;01mFalse\u001b[39;00m), \u001b[38;5;66;03m# create a shallow copy in case a displayed object is mutated in the same cell\u001b[39;00m\n\u001b[0;32m    222\u001b[0m     \u001b[38;5;124m\"\u001b[39m\u001b[38;5;124mconversion_method\u001b[39m\u001b[38;5;124m\"\u001b[39m: conversion_method\n\u001b[0;32m    223\u001b[0m }\n",
      "\u001b[1;31mAttributeError\u001b[0m: 'NoneType' object has no attribute 'copy'"
     ]
    },
    {
     "data": {
      "text/html": [
       "<div>\n",
       "<style scoped>\n",
       "    .dataframe tbody tr th:only-of-type {\n",
       "        vertical-align: middle;\n",
       "    }\n",
       "\n",
       "    .dataframe tbody tr th {\n",
       "        vertical-align: top;\n",
       "    }\n",
       "\n",
       "    .dataframe thead th {\n",
       "        text-align: right;\n",
       "    }\n",
       "</style>\n",
       "<table border=\"1\" class=\"dataframe\">\n",
       "  <thead>\n",
       "    <tr style=\"text-align: right;\">\n",
       "      <th></th>\n",
       "      <th>id2</th>\n",
       "      <th>objectid</th>\n",
       "      <th>id</th>\n",
       "      <th>nome</th>\n",
       "      <th>pchiave</th>\n",
       "      <th>geometry</th>\n",
       "    </tr>\n",
       "  </thead>\n",
       "  <tbody>\n",
       "    <tr>\n",
       "      <th>0</th>\n",
       "      <td>1</td>\n",
       "      <td>1.0</td>\n",
       "      <td>1.0</td>\n",
       "      <td>I - SAN NICOLA</td>\n",
       "      <td>1</td>\n",
       "      <td>POLYGON ((656605.013 4556283.531, 656605.013 4...</td>\n",
       "    </tr>\n",
       "    <tr>\n",
       "      <th>1</th>\n",
       "      <td>2</td>\n",
       "      <td>1.0</td>\n",
       "      <td>1.0</td>\n",
       "      <td>I - SAN NICOLA</td>\n",
       "      <td>2</td>\n",
       "      <td>POLYGON ((656604.56 4556287.124, 656605.013 45...</td>\n",
       "    </tr>\n",
       "    <tr>\n",
       "      <th>2</th>\n",
       "      <td>3</td>\n",
       "      <td>2.0</td>\n",
       "      <td>0.0</td>\n",
       "      <td>II - MURAT</td>\n",
       "      <td>3</td>\n",
       "      <td>POLYGON ((656305.109 4555256.891, 656306.453 4...</td>\n",
       "    </tr>\n",
       "    <tr>\n",
       "      <th>3</th>\n",
       "      <td>4</td>\n",
       "      <td>2.0</td>\n",
       "      <td>0.0</td>\n",
       "      <td>II - MURAT</td>\n",
       "      <td>4</td>\n",
       "      <td>POLYGON ((657402.219 4554558.297, 657400.422 4...</td>\n",
       "    </tr>\n",
       "    <tr>\n",
       "      <th>4</th>\n",
       "      <td>5</td>\n",
       "      <td>3.0</td>\n",
       "      <td>0.0</td>\n",
       "      <td>III - MADONNELLA</td>\n",
       "      <td>5</td>\n",
       "      <td>POLYGON ((657620.375 4554131.125, 657625.375 4...</td>\n",
       "    </tr>\n",
       "    <tr>\n",
       "      <th>5</th>\n",
       "      <td>6</td>\n",
       "      <td>4.0</td>\n",
       "      <td>0.0</td>\n",
       "      <td>IV - LIBERTA'</td>\n",
       "      <td>6</td>\n",
       "      <td>POLYGON ((656290.016 4553446.094, 656271.984 4...</td>\n",
       "    </tr>\n",
       "    <tr>\n",
       "      <th>6</th>\n",
       "      <td>7</td>\n",
       "      <td>5.0</td>\n",
       "      <td>0.0</td>\n",
       "      <td>V - JAPIGIA</td>\n",
       "      <td>7</td>\n",
       "      <td>POLYGON ((658721.016 4553663.719, 658722.812 4...</td>\n",
       "    </tr>\n",
       "    <tr>\n",
       "      <th>7</th>\n",
       "      <td>8</td>\n",
       "      <td>7.0</td>\n",
       "      <td>0.0</td>\n",
       "      <td>XVII - TORRE A MARE</td>\n",
       "      <td>8</td>\n",
       "      <td>POLYGON ((668675.906 4550221.656, 668677.031 4...</td>\n",
       "    </tr>\n",
       "    <tr>\n",
       "      <th>8</th>\n",
       "      <td>9</td>\n",
       "      <td>7.0</td>\n",
       "      <td>0.0</td>\n",
       "      <td>XVII - TORRE A MARE</td>\n",
       "      <td>9</td>\n",
       "      <td>POLYGON ((668675.906 4550221.656, 668674.781 4...</td>\n",
       "    </tr>\n",
       "    <tr>\n",
       "      <th>9</th>\n",
       "      <td>10</td>\n",
       "      <td>7.0</td>\n",
       "      <td>0.0</td>\n",
       "      <td>XVII - TORRE A MARE</td>\n",
       "      <td>10</td>\n",
       "      <td>POLYGON ((669327.422 4550143.484, 669328.547 4...</td>\n",
       "    </tr>\n",
       "    <tr>\n",
       "      <th>10</th>\n",
       "      <td>11</td>\n",
       "      <td>9.0</td>\n",
       "      <td>0.0</td>\n",
       "      <td>VIII - PICONE</td>\n",
       "      <td>11</td>\n",
       "      <td>POLYGON ((655896.625 4553358.625, 655919.125 4...</td>\n",
       "    </tr>\n",
       "    <tr>\n",
       "      <th>11</th>\n",
       "      <td>12</td>\n",
       "      <td>11.0</td>\n",
       "      <td>0.0</td>\n",
       "      <td>X  - MARCONI - SAN GIROLAMO - FESCA</td>\n",
       "      <td>12</td>\n",
       "      <td>POLYGON ((650250.703 4556989.078, 650252.062 4...</td>\n",
       "    </tr>\n",
       "    <tr>\n",
       "      <th>12</th>\n",
       "      <td>13</td>\n",
       "      <td>13.0</td>\n",
       "      <td>0.0</td>\n",
       "      <td>XIII - SANTO SPIRITO</td>\n",
       "      <td>13</td>\n",
       "      <td>POLYGON ((645274.5 4559040.016, 645276.078 455...</td>\n",
       "    </tr>\n",
       "    <tr>\n",
       "      <th>13</th>\n",
       "      <td>14</td>\n",
       "      <td>14.0</td>\n",
       "      <td>0.0</td>\n",
       "      <td>XII - PALESE - MACCHIE</td>\n",
       "      <td>14</td>\n",
       "      <td>POLYGON ((648403.641 4558206.938, 648405.656 4...</td>\n",
       "    </tr>\n",
       "    <tr>\n",
       "      <th>14</th>\n",
       "      <td>15</td>\n",
       "      <td>15.0</td>\n",
       "      <td>0.0</td>\n",
       "      <td>XIV - CARBONARA DI BARI</td>\n",
       "      <td>15</td>\n",
       "      <td>POLYGON ((656394.312 4550399.406, 656423.156 4...</td>\n",
       "    </tr>\n",
       "    <tr>\n",
       "      <th>15</th>\n",
       "      <td>16</td>\n",
       "      <td>15.0</td>\n",
       "      <td>0.0</td>\n",
       "      <td>XIV - CARBONARA DI BARI</td>\n",
       "      <td>16</td>\n",
       "      <td>POLYGON ((660522.125 4548641.328, 660530.234 4...</td>\n",
       "    </tr>\n",
       "    <tr>\n",
       "      <th>16</th>\n",
       "      <td>17</td>\n",
       "      <td>15.0</td>\n",
       "      <td>0.0</td>\n",
       "      <td>XIV - CARBONARA DI BARI</td>\n",
       "      <td>17</td>\n",
       "      <td>POLYGON ((660530.234 4548624.656, 660531.359 4...</td>\n",
       "    </tr>\n",
       "    <tr>\n",
       "      <th>17</th>\n",
       "      <td>18</td>\n",
       "      <td>16.0</td>\n",
       "      <td>0.0</td>\n",
       "      <td>XVI - LOSETO</td>\n",
       "      <td>18</td>\n",
       "      <td>POLYGON ((655482.828 4546003.297, 655754.75 45...</td>\n",
       "    </tr>\n",
       "    <tr>\n",
       "      <th>18</th>\n",
       "      <td>19</td>\n",
       "      <td>17.0</td>\n",
       "      <td>0.0</td>\n",
       "      <td>XV - CEGLIE DEL CAMPO</td>\n",
       "      <td>19</td>\n",
       "      <td>POLYGON ((655444.531 4547820.406, 655451.969 4...</td>\n",
       "    </tr>\n",
       "    <tr>\n",
       "      <th>19</th>\n",
       "      <td>20</td>\n",
       "      <td>6.0</td>\n",
       "      <td>0.0</td>\n",
       "      <td>VI - SAN PASQUALE</td>\n",
       "      <td>20</td>\n",
       "      <td>POLYGON ((658450.672 4549417.641, 658442.344 4...</td>\n",
       "    </tr>\n",
       "    <tr>\n",
       "      <th>20</th>\n",
       "      <td>21</td>\n",
       "      <td>8.0</td>\n",
       "      <td>0.0</td>\n",
       "      <td>VII - CARRASSI</td>\n",
       "      <td>21</td>\n",
       "      <td>POLYGON ((658212.547 4550436.578, 658213.906 4...</td>\n",
       "    </tr>\n",
       "    <tr>\n",
       "      <th>21</th>\n",
       "      <td>22</td>\n",
       "      <td>10.0</td>\n",
       "      <td>0.0</td>\n",
       "      <td>IX - STANIC</td>\n",
       "      <td>22</td>\n",
       "      <td>POLYGON ((651483.891 4554011.766, 651501.453 4...</td>\n",
       "    </tr>\n",
       "    <tr>\n",
       "      <th>22</th>\n",
       "      <td>23</td>\n",
       "      <td>12.0</td>\n",
       "      <td>0.0</td>\n",
       "      <td>XI - SAN PAOLO</td>\n",
       "      <td>23</td>\n",
       "      <td>POLYGON ((651741.828 4555364.578, 652023.438 4...</td>\n",
       "    </tr>\n",
       "  </tbody>\n",
       "</table>\n",
       "</div>"
      ],
      "text/plain": [
       "    id2  objectid   id                                 nome  pchiave  \\\n",
       "0     1       1.0  1.0                       I - SAN NICOLA        1   \n",
       "1     2       1.0  1.0                       I - SAN NICOLA        2   \n",
       "2     3       2.0  0.0                           II - MURAT        3   \n",
       "3     4       2.0  0.0                           II - MURAT        4   \n",
       "4     5       3.0  0.0                     III - MADONNELLA        5   \n",
       "5     6       4.0  0.0                        IV - LIBERTA'        6   \n",
       "6     7       5.0  0.0                          V - JAPIGIA        7   \n",
       "7     8       7.0  0.0                  XVII - TORRE A MARE        8   \n",
       "8     9       7.0  0.0                  XVII - TORRE A MARE        9   \n",
       "9    10       7.0  0.0                  XVII - TORRE A MARE       10   \n",
       "10   11       9.0  0.0                        VIII - PICONE       11   \n",
       "11   12      11.0  0.0  X  - MARCONI - SAN GIROLAMO - FESCA       12   \n",
       "12   13      13.0  0.0                 XIII - SANTO SPIRITO       13   \n",
       "13   14      14.0  0.0               XII - PALESE - MACCHIE       14   \n",
       "14   15      15.0  0.0              XIV - CARBONARA DI BARI       15   \n",
       "15   16      15.0  0.0              XIV - CARBONARA DI BARI       16   \n",
       "16   17      15.0  0.0              XIV - CARBONARA DI BARI       17   \n",
       "17   18      16.0  0.0                         XVI - LOSETO       18   \n",
       "18   19      17.0  0.0                XV - CEGLIE DEL CAMPO       19   \n",
       "19   20       6.0  0.0                    VI - SAN PASQUALE       20   \n",
       "20   21       8.0  0.0                       VII - CARRASSI       21   \n",
       "21   22      10.0  0.0                          IX - STANIC       22   \n",
       "22   23      12.0  0.0                       XI - SAN PAOLO       23   \n",
       "\n",
       "                                             geometry  \n",
       "0   POLYGON ((656605.013 4556283.531, 656605.013 4...  \n",
       "1   POLYGON ((656604.56 4556287.124, 656605.013 45...  \n",
       "2   POLYGON ((656305.109 4555256.891, 656306.453 4...  \n",
       "3   POLYGON ((657402.219 4554558.297, 657400.422 4...  \n",
       "4   POLYGON ((657620.375 4554131.125, 657625.375 4...  \n",
       "5   POLYGON ((656290.016 4553446.094, 656271.984 4...  \n",
       "6   POLYGON ((658721.016 4553663.719, 658722.812 4...  \n",
       "7   POLYGON ((668675.906 4550221.656, 668677.031 4...  \n",
       "8   POLYGON ((668675.906 4550221.656, 668674.781 4...  \n",
       "9   POLYGON ((669327.422 4550143.484, 669328.547 4...  \n",
       "10  POLYGON ((655896.625 4553358.625, 655919.125 4...  \n",
       "11  POLYGON ((650250.703 4556989.078, 650252.062 4...  \n",
       "12  POLYGON ((645274.5 4559040.016, 645276.078 455...  \n",
       "13  POLYGON ((648403.641 4558206.938, 648405.656 4...  \n",
       "14  POLYGON ((656394.312 4550399.406, 656423.156 4...  \n",
       "15  POLYGON ((660522.125 4548641.328, 660530.234 4...  \n",
       "16  POLYGON ((660530.234 4548624.656, 660531.359 4...  \n",
       "17  POLYGON ((655482.828 4546003.297, 655754.75 45...  \n",
       "18  POLYGON ((655444.531 4547820.406, 655451.969 4...  \n",
       "19  POLYGON ((658450.672 4549417.641, 658442.344 4...  \n",
       "20  POLYGON ((658212.547 4550436.578, 658213.906 4...  \n",
       "21  POLYGON ((651483.891 4554011.766, 651501.453 4...  \n",
       "22  POLYGON ((651741.828 4555364.578, 652023.438 4...  "
      ]
     },
     "execution_count": 56,
     "metadata": {},
     "output_type": "execute_result"
    }
   ],
   "source": [
    "quartieri_sf"
   ]
  },
  {
   "cell_type": "code",
   "execution_count": 57,
   "metadata": {},
   "outputs": [],
   "source": [
    "# Set the crs\n",
    "quartieri_sf.to_crs(4326, inplace=True)"
   ]
  },
  {
   "cell_type": "markdown",
   "metadata": {},
   "source": [
    "Show the districts on the map"
   ]
  },
  {
   "cell_type": "code",
   "execution_count": 58,
   "metadata": {},
   "outputs": [
    {
     "data": {
      "text/plain": [
       "<Axes: >"
      ]
     },
     "execution_count": 58,
     "metadata": {},
     "output_type": "execute_result"
    },
    {
     "data": {
      "image/png": "[encoded data removed]",
      "text/plain": [
       "<Figure size 640x480 with 1 Axes>"
      ]
     },
     "metadata": {},
     "output_type": "display_data"
    }
   ],
   "source": [
    "quartieri_sf.plot(column='nome')"
   ]
  },
  {
   "cell_type": "code",
   "execution_count": 59,
   "metadata": {},
   "outputs": [],
   "source": [
    "# List of districts that contain the points\n",
    "lst = []\n",
    "# District geometries\n",
    "qs = quartieri_sf['geometry']\n",
    "\n",
    "for i, p in enumerate(gdf['geometry']):\n",
    "\n",
    "    quartieri_contains_pt = quartieri_sf[qs.contains(p)]['nome'].to_list()\n",
    "    # If there is at least a district that contains the point p, take first\n",
    "    if len(quartieri_contains_pt) != 0:\n",
    "        lst.append(quartieri_contains_pt[0])\n",
    "    else:\n",
    "        lst.append(pd.NA)"
   ]
  },
  {
   "cell_type": "code",
   "execution_count": 60,
   "metadata": {},
   "outputs": [
    {
     "data": {
      "text/plain": [
       "['XIII - SANTO SPIRITO',\n",
       " 'III - MADONNELLA',\n",
       " 'XIII - SANTO SPIRITO',\n",
       " 'XIII - SANTO SPIRITO',\n",
       " 'III - MADONNELLA',\n",
       " 'III - MADONNELLA',\n",
       " 'III - MADONNELLA',\n",
       " <NA>,\n",
       " 'VII - CARRASSI',\n",
       " <NA>]"
      ]
     },
     "execution_count": 60,
     "metadata": {},
     "output_type": "execute_result"
    }
   ],
   "source": [
    "# First 10 element of the list\n",
    "lst[0:10]"
   ]
  },
  {
   "cell_type": "code",
   "execution_count": 61,
   "metadata": {},
   "outputs": [],
   "source": [
    "gdf['quartiere'] = lst"
   ]
  },
  {
   "cell_type": "code",
   "execution_count": 62,
   "metadata": {},
   "outputs": [],
   "source": [
    "gdf.dropna(inplace=True)"
   ]
  },
  {
   "cell_type": "code",
   "execution_count": 63,
   "metadata": {},
   "outputs": [],
   "source": [
    "# Drop the point's geometry\n",
    "gdf.drop(columns='geometry', inplace=True)"
   ]
  },
  {
   "cell_type": "code",
   "execution_count": 64,
   "metadata": {},
   "outputs": [],
   "source": [
    "# Assign the district's geometry to each point\n",
    "gdf['quartiere_geom'] = gdf['quartiere'].map(lambda x: quartieri_sf[quartieri_sf['nome'] == x]['geometry'])"
   ]
  },
  {
   "cell_type": "code",
   "execution_count": 65,
   "metadata": {},
   "outputs": [
    {
     "data": {
      "application/vnd.microsoft.datawrangler.viewer.v0+json": {
       "columns": [
        {
         "name": "index",
         "rawType": "int64",
         "type": "integer"
        },
        {
         "name": "nome",
         "rawType": "object",
         "type": "string"
        },
        {
         "name": "ordine",
         "rawType": "object",
         "type": "string"
        },
        {
         "name": "indirizzo",
         "rawType": "object",
         "type": "string"
        },
        {
         "name": "n_biblioteca",
         "rawType": "float64",
         "type": "float"
        },
        {
         "name": "n_laboratori",
         "rawType": "float64",
         "type": "float"
        },
        {
         "name": "n_aule_attivita_collettive",
         "rawType": "float64",
         "type": "float"
        },
        {
         "name": "n_palestre_coperte",
         "rawType": "float64",
         "type": "float"
        },
        {
         "name": "n_palestre_scoperte",
         "rawType": "float64",
         "type": "float"
        },
        {
         "name": "n_auditorium",
         "rawType": "float64",
         "type": "float"
        },
        {
         "name": "n_ambienti_destinati_ad_aule",
         "rawType": "float64",
         "type": "float"
        },
        {
         "name": "n_sale_insegnati",
         "rawType": "float64",
         "type": "float"
        },
        {
         "name": "n_cucine",
         "rawType": "float64",
         "type": "float"
        },
        {
         "name": "n_servizi_igenici",
         "rawType": "float64",
         "type": "float"
        },
        {
         "name": "n_ascensori",
         "rawType": "float64",
         "type": "float"
        },
        {
         "name": "n_piani",
         "rawType": "float64",
         "type": "float"
        },
        {
         "name": "n_aule_non_utilizzate",
         "rawType": "float64",
         "type": "float"
        },
        {
         "name": "n_classi_funzionanti_nell_anno",
         "rawType": "object",
         "type": "string"
        },
        {
         "name": "n_alunni_servizio_trasporto",
         "rawType": "float64",
         "type": "float"
        },
        {
         "name": "iscritti_tot",
         "rawType": "float64",
         "type": "float"
        },
        {
         "name": "frequentanti_tot",
         "rawType": "float64",
         "type": "float"
        },
        {
         "name": "n_docenti",
         "rawType": "float64",
         "type": "float"
        },
        {
         "name": "n_bidelli",
         "rawType": "float64",
         "type": "float"
        },
        {
         "name": "n_custode",
         "rawType": "float64",
         "type": "float"
        },
        {
         "name": "Lat",
         "rawType": "float64",
         "type": "float"
        },
        {
         "name": "Lon",
         "rawType": "float64",
         "type": "float"
        },
        {
         "name": "quartiere",
         "rawType": "object",
         "type": "string"
        },
        {
         "name": "quartiere_geom",
         "rawType": "object",
         "type": "unknown"
        }
       ],
       "conversionMethod": "pd.DataFrame",
       "ref": "dc2195d0-5106-43e0-b353-8e2b09bcadb3",
       "rows": [
        [
         "1",
         "ARISTIDE GABELLI (Istituto Comprensivo)",
         "Infanzia",
         "VIA DELLA TOLLERANZA, Bari, Apulia, Italy",
         "0.0",
         "0.0",
         "0.0",
         "0.0",
         "0.0",
         "0.0",
         "3.0",
         "0.0",
         "2.0",
         "11.0",
         "0.0",
         "1.0",
         "0.0",
         "3",
         "0.0",
         "40.0",
         "40.0",
         "3.0",
         "1.0",
         "0.0",
         "41.14919642269854",
         "16.735654717994276",
         "XIII - SANTO SPIRITO",
         "12    POLYGON ((16.73178 41.16969, 16.7318 41.16969,...\nName: geometry, dtype: geometry"
        ],
        [
         "2",
         "ARISTIDE GABELLI (Istituto Comprensivo)",
         "Infanzia",
         "VIA DALMAZIA, Bari, Apulia, Italy",
         "0.0",
         "0.0",
         "0.0",
         "0.0",
         "0.0",
         "0.0",
         "5.0",
         "0.0",
         "1.0",
         "6.0",
         "0.0",
         "1.0",
         "0.0",
         "3",
         "15.0",
         "62.0",
         "62.0",
         "10.0",
         "2.0",
         "0.0",
         "41.12007751606332",
         "16.88371592958951",
         "III - MADONNELLA",
         "4    POLYGON ((16.87762 41.12319, 16.87768 41.12316...\nName: geometry, dtype: geometry"
        ],
        [
         "5",
         "ARISTIDE GABELLI (Istituto Comprensivo)",
         "Primaria",
         "PIAZZETTA ELEONORA, Bari, Apulia, Italy",
         "1.0",
         "1.0",
         "2.0",
         "1.0",
         "1.0",
         "1.0",
         "10.0",
         "0.0",
         "1.0",
         "17.0",
         "1.0",
         "2.0",
         "0.0",
         "5",
         "14.0",
         "81.0",
         "81.0",
         "17.0",
         "1.0",
         "0.0",
         "41.14804645",
         "16.739179070749437",
         "XIII - SANTO SPIRITO",
         "12    POLYGON ((16.73178 41.16969, 16.7318 41.16969,...\nName: geometry, dtype: geometry"
        ],
        [
         "6",
         "ARISTIDE GABELLI (Istituto Comprensivo)",
         "Primaria",
         "VIA LUCCA, Bari, Apulia, Italy",
         "1.0",
         "1.0",
         "0.0",
         "1.0",
         "1.0",
         "1.0",
         "26.0",
         "0.0",
         "1.0",
         "28.0",
         "1.0",
         "2.0",
         "0.0",
         "20",
         "170.0",
         "359.0",
         "359.0",
         "56.0",
         "6.0",
         "1.0",
         "41.16164565777979",
         "16.7441982180334",
         "XIII - SANTO SPIRITO",
         "12    POLYGON ((16.73178 41.16969, 16.7318 41.16969,...\nName: geometry, dtype: geometry"
        ],
        [
         "9",
         "BALILLA - IMBRIANI (Istituto Comprensivo)",
         "Infanzia",
         "L.GO CARABELLESE 1 BARI, Bari, Apulia, Italy",
         "1.0",
         "2.0",
         "0.0",
         "0.0",
         "0.0",
         "0.0",
         "9.0",
         "0.0",
         "0.0",
         "3.0",
         "0.0",
         "1.0",
         "0.0",
         "9",
         "0.0",
         "164.0",
         "164.0",
         "15.0",
         "3.0",
         "0.0",
         "41.12036185",
         "16.879269608018866",
         "III - MADONNELLA",
         "4    POLYGON ((16.87762 41.12319, 16.87768 41.12316...\nName: geometry, dtype: geometry"
        ]
       ],
       "shape": {
        "columns": 27,
        "rows": 5
       }
      },
      "text/html": [
       "<div>\n",
       "<style scoped>\n",
       "    .dataframe tbody tr th:only-of-type {\n",
       "        vertical-align: middle;\n",
       "    }\n",
       "\n",
       "    .dataframe tbody tr th {\n",
       "        vertical-align: top;\n",
       "    }\n",
       "\n",
       "    .dataframe thead th {\n",
       "        text-align: right;\n",
       "    }\n",
       "</style>\n",
       "<table border=\"1\" class=\"dataframe\">\n",
       "  <thead>\n",
       "    <tr style=\"text-align: right;\">\n",
       "      <th></th>\n",
       "      <th>nome</th>\n",
       "      <th>ordine</th>\n",
       "      <th>indirizzo</th>\n",
       "      <th>n_biblioteca</th>\n",
       "      <th>n_laboratori</th>\n",
       "      <th>n_aule_attivita_collettive</th>\n",
       "      <th>n_palestre_coperte</th>\n",
       "      <th>n_palestre_scoperte</th>\n",
       "      <th>n_auditorium</th>\n",
       "      <th>n_ambienti_destinati_ad_aule</th>\n",
       "      <th>...</th>\n",
       "      <th>n_alunni_servizio_trasporto</th>\n",
       "      <th>iscritti_tot</th>\n",
       "      <th>frequentanti_tot</th>\n",
       "      <th>n_docenti</th>\n",
       "      <th>n_bidelli</th>\n",
       "      <th>n_custode</th>\n",
       "      <th>Lat</th>\n",
       "      <th>Lon</th>\n",
       "      <th>quartiere</th>\n",
       "      <th>quartiere_geom</th>\n",
       "    </tr>\n",
       "  </thead>\n",
       "  <tbody>\n",
       "    <tr>\n",
       "      <th>1</th>\n",
       "      <td>ARISTIDE GABELLI (Istituto Comprensivo)</td>\n",
       "      <td>Infanzia</td>\n",
       "      <td>VIA DELLA TOLLERANZA, Bari, Apulia, Italy</td>\n",
       "      <td>0.0</td>\n",
       "      <td>0.0</td>\n",
       "      <td>0.0</td>\n",
       "      <td>0.0</td>\n",
       "      <td>0.0</td>\n",
       "      <td>0.0</td>\n",
       "      <td>3.0</td>\n",
       "      <td>...</td>\n",
       "      <td>0.0</td>\n",
       "      <td>40.0</td>\n",
       "      <td>40.0</td>\n",
       "      <td>3.0</td>\n",
       "      <td>1.0</td>\n",
       "      <td>0.0</td>\n",
       "      <td>41.149196</td>\n",
       "      <td>16.735655</td>\n",
       "      <td>XIII - SANTO SPIRITO</td>\n",
       "      <td>12    POLYGON ((16.73178 41.16969, 16.7318 41....</td>\n",
       "    </tr>\n",
       "    <tr>\n",
       "      <th>2</th>\n",
       "      <td>ARISTIDE GABELLI (Istituto Comprensivo)</td>\n",
       "      <td>Infanzia</td>\n",
       "      <td>VIA DALMAZIA, Bari, Apulia, Italy</td>\n",
       "      <td>0.0</td>\n",
       "      <td>0.0</td>\n",
       "      <td>0.0</td>\n",
       "      <td>0.0</td>\n",
       "      <td>0.0</td>\n",
       "      <td>0.0</td>\n",
       "      <td>5.0</td>\n",
       "      <td>...</td>\n",
       "      <td>15.0</td>\n",
       "      <td>62.0</td>\n",
       "      <td>62.0</td>\n",
       "      <td>10.0</td>\n",
       "      <td>2.0</td>\n",
       "      <td>0.0</td>\n",
       "      <td>41.120078</td>\n",
       "      <td>16.883716</td>\n",
       "      <td>III - MADONNELLA</td>\n",
       "      <td>4    POLYGON ((16.87762 41.12319, 16.87768 41....</td>\n",
       "    </tr>\n",
       "    <tr>\n",
       "      <th>5</th>\n",
       "      <td>ARISTIDE GABELLI (Istituto Comprensivo)</td>\n",
       "      <td>Primaria</td>\n",
       "      <td>PIAZZETTA ELEONORA, Bari, Apulia, Italy</td>\n",
       "      <td>1.0</td>\n",
       "      <td>1.0</td>\n",
       "      <td>2.0</td>\n",
       "      <td>1.0</td>\n",
       "      <td>1.0</td>\n",
       "      <td>1.0</td>\n",
       "      <td>10.0</td>\n",
       "      <td>...</td>\n",
       "      <td>14.0</td>\n",
       "      <td>81.0</td>\n",
       "      <td>81.0</td>\n",
       "      <td>17.0</td>\n",
       "      <td>1.0</td>\n",
       "      <td>0.0</td>\n",
       "      <td>41.148046</td>\n",
       "      <td>16.739179</td>\n",
       "      <td>XIII - SANTO SPIRITO</td>\n",
       "      <td>12    POLYGON ((16.73178 41.16969, 16.7318 41....</td>\n",
       "    </tr>\n",
       "    <tr>\n",
       "      <th>6</th>\n",
       "      <td>ARISTIDE GABELLI (Istituto Comprensivo)</td>\n",
       "      <td>Primaria</td>\n",
       "      <td>VIA LUCCA, Bari, Apulia, Italy</td>\n",
       "      <td>1.0</td>\n",
       "      <td>1.0</td>\n",
       "      <td>0.0</td>\n",
       "      <td>1.0</td>\n",
       "      <td>1.0</td>\n",
       "      <td>1.0</td>\n",
       "      <td>26.0</td>\n",
       "      <td>...</td>\n",
       "      <td>170.0</td>\n",
       "      <td>359.0</td>\n",
       "      <td>359.0</td>\n",
       "      <td>56.0</td>\n",
       "      <td>6.0</td>\n",
       "      <td>1.0</td>\n",
       "      <td>41.161646</td>\n",
       "      <td>16.744198</td>\n",
       "      <td>XIII - SANTO SPIRITO</td>\n",
       "      <td>12    POLYGON ((16.73178 41.16969, 16.7318 41....</td>\n",
       "    </tr>\n",
       "    <tr>\n",
       "      <th>9</th>\n",
       "      <td>BALILLA - IMBRIANI (Istituto Comprensivo)</td>\n",
       "      <td>Infanzia</td>\n",
       "      <td>L.GO CARABELLESE 1 BARI, Bari, Apulia, Italy</td>\n",
       "      <td>1.0</td>\n",
       "      <td>2.0</td>\n",
       "      <td>0.0</td>\n",
       "      <td>0.0</td>\n",
       "      <td>0.0</td>\n",
       "      <td>0.0</td>\n",
       "      <td>9.0</td>\n",
       "      <td>...</td>\n",
       "      <td>0.0</td>\n",
       "      <td>164.0</td>\n",
       "      <td>164.0</td>\n",
       "      <td>15.0</td>\n",
       "      <td>3.0</td>\n",
       "      <td>0.0</td>\n",
       "      <td>41.120362</td>\n",
       "      <td>16.879270</td>\n",
       "      <td>III - MADONNELLA</td>\n",
       "      <td>4    POLYGON ((16.87762 41.12319, 16.87768 41....</td>\n",
       "    </tr>\n",
       "  </tbody>\n",
       "</table>\n",
       "<p>5 rows × 27 columns</p>\n",
       "</div>"
      ],
      "text/plain": [
       "                                        nome    ordine  \\\n",
       "1    ARISTIDE GABELLI (Istituto Comprensivo)  Infanzia   \n",
       "2    ARISTIDE GABELLI (Istituto Comprensivo)  Infanzia   \n",
       "5    ARISTIDE GABELLI (Istituto Comprensivo)  Primaria   \n",
       "6    ARISTIDE GABELLI (Istituto Comprensivo)  Primaria   \n",
       "9  BALILLA - IMBRIANI (Istituto Comprensivo)  Infanzia   \n",
       "\n",
       "                                      indirizzo  n_biblioteca  n_laboratori  \\\n",
       "1     VIA DELLA TOLLERANZA, Bari, Apulia, Italy           0.0           0.0   \n",
       "2             VIA DALMAZIA, Bari, Apulia, Italy           0.0           0.0   \n",
       "5       PIAZZETTA ELEONORA, Bari, Apulia, Italy           1.0           1.0   \n",
       "6                VIA LUCCA, Bari, Apulia, Italy           1.0           1.0   \n",
       "9  L.GO CARABELLESE 1 BARI, Bari, Apulia, Italy           1.0           2.0   \n",
       "\n",
       "   n_aule_attivita_collettive  n_palestre_coperte  n_palestre_scoperte  \\\n",
       "1                         0.0                 0.0                  0.0   \n",
       "2                         0.0                 0.0                  0.0   \n",
       "5                         2.0                 1.0                  1.0   \n",
       "6                         0.0                 1.0                  1.0   \n",
       "9                         0.0                 0.0                  0.0   \n",
       "\n",
       "   n_auditorium  n_ambienti_destinati_ad_aule  ...  \\\n",
       "1           0.0                           3.0  ...   \n",
       "2           0.0                           5.0  ...   \n",
       "5           1.0                          10.0  ...   \n",
       "6           1.0                          26.0  ...   \n",
       "9           0.0                           9.0  ...   \n",
       "\n",
       "   n_alunni_servizio_trasporto  iscritti_tot  frequentanti_tot  n_docenti  \\\n",
       "1                          0.0          40.0              40.0        3.0   \n",
       "2                         15.0          62.0              62.0       10.0   \n",
       "5                         14.0          81.0              81.0       17.0   \n",
       "6                        170.0         359.0             359.0       56.0   \n",
       "9                          0.0         164.0             164.0       15.0   \n",
       "\n",
       "   n_bidelli  n_custode        Lat        Lon             quartiere  \\\n",
       "1        1.0        0.0  41.149196  16.735655  XIII - SANTO SPIRITO   \n",
       "2        2.0        0.0  41.120078  16.883716      III - MADONNELLA   \n",
       "5        1.0        0.0  41.148046  16.739179  XIII - SANTO SPIRITO   \n",
       "6        6.0        1.0  41.161646  16.744198  XIII - SANTO SPIRITO   \n",
       "9        3.0        0.0  41.120362  16.879270      III - MADONNELLA   \n",
       "\n",
       "                                      quartiere_geom  \n",
       "1  12    POLYGON ((16.73178 41.16969, 16.7318 41....  \n",
       "2  4    POLYGON ((16.87762 41.12319, 16.87768 41....  \n",
       "5  12    POLYGON ((16.73178 41.16969, 16.7318 41....  \n",
       "6  12    POLYGON ((16.73178 41.16969, 16.7318 41....  \n",
       "9  4    POLYGON ((16.87762 41.12319, 16.87768 41....  \n",
       "\n",
       "[5 rows x 27 columns]"
      ]
     },
     "execution_count": 65,
     "metadata": {},
     "output_type": "execute_result"
    }
   ],
   "source": [
    "gdf.head()"
   ]
  },
  {
   "cell_type": "code",
   "execution_count": 67,
   "metadata": {},
   "outputs": [],
   "source": [
    "gdf['rapporto'] = gdf['frequentanti_tot'] / gdf['n_docenti']"
   ]
  },
  {
   "cell_type": "markdown",
   "metadata": {},
   "source": [
    "#### Note\n",
    "Is possible to find too much frequentant students for a few teachers.  \n",
    "Example:"
   ]
  },
  {
   "cell_type": "code",
   "execution_count": 219,
   "metadata": {},
   "outputs": [
    {
     "data": {
      "text/html": [
       "<div>\n",
       "<style scoped>\n",
       "    .dataframe tbody tr th:only-of-type {\n",
       "        vertical-align: middle;\n",
       "    }\n",
       "\n",
       "    .dataframe tbody tr th {\n",
       "        vertical-align: top;\n",
       "    }\n",
       "\n",
       "    .dataframe thead th {\n",
       "        text-align: right;\n",
       "    }\n",
       "</style>\n",
       "<table border=\"1\" class=\"dataframe\">\n",
       "  <thead>\n",
       "    <tr style=\"text-align: right;\">\n",
       "      <th></th>\n",
       "      <th>nome</th>\n",
       "      <th>ordine</th>\n",
       "      <th>indirizzo</th>\n",
       "      <th>frequentanti_tot</th>\n",
       "      <th>n_docenti</th>\n",
       "      <th>rapporto</th>\n",
       "    </tr>\n",
       "  </thead>\n",
       "  <tbody>\n",
       "    <tr>\n",
       "      <th>90</th>\n",
       "      <td>JAPIGIA 1 - VERGA (Istituto Comprensivo)</td>\n",
       "      <td>Infanzia</td>\n",
       "      <td>V.LE JAPIGIA 140 , Bari, Apulia, Italy</td>\n",
       "      <td>96.0</td>\n",
       "      <td>11.0</td>\n",
       "      <td>8.727273</td>\n",
       "    </tr>\n",
       "    <tr>\n",
       "      <th>91</th>\n",
       "      <td>JAPIGIA 1 - VERGA (Istituto Comprensivo)</td>\n",
       "      <td>Primaria</td>\n",
       "      <td>V.LE JAPIGIA 140 , Bari, Apulia, Italy</td>\n",
       "      <td>258.0</td>\n",
       "      <td>48.0</td>\n",
       "      <td>5.375000</td>\n",
       "    </tr>\n",
       "    <tr>\n",
       "      <th>93</th>\n",
       "      <td>JAPIGIA 1 - VERGA (Istituto Comprensivo)</td>\n",
       "      <td>Infanzia</td>\n",
       "      <td>VIA PEUCETIA , Bari, Apulia, Italy</td>\n",
       "      <td>85.0</td>\n",
       "      <td>9.0</td>\n",
       "      <td>9.444444</td>\n",
       "    </tr>\n",
       "    <tr>\n",
       "      <th>94</th>\n",
       "      <td>JAPIGIA 1 - VERGA (Istituto Comprensivo)</td>\n",
       "      <td>Primaria</td>\n",
       "      <td>VIA PEUCETIA , Bari, Apulia, Italy</td>\n",
       "      <td>321.0</td>\n",
       "      <td>1.0</td>\n",
       "      <td>321.000000</td>\n",
       "    </tr>\n",
       "  </tbody>\n",
       "</table>\n",
       "</div>"
      ],
      "text/plain": [
       "                                        nome    ordine  \\\n",
       "90  JAPIGIA 1 - VERGA (Istituto Comprensivo)  Infanzia   \n",
       "91  JAPIGIA 1 - VERGA (Istituto Comprensivo)  Primaria   \n",
       "93  JAPIGIA 1 - VERGA (Istituto Comprensivo)  Infanzia   \n",
       "94  JAPIGIA 1 - VERGA (Istituto Comprensivo)  Primaria   \n",
       "\n",
       "                                 indirizzo  frequentanti_tot  n_docenti  \\\n",
       "90  V.LE JAPIGIA 140 , Bari, Apulia, Italy              96.0       11.0   \n",
       "91  V.LE JAPIGIA 140 , Bari, Apulia, Italy             258.0       48.0   \n",
       "93      VIA PEUCETIA , Bari, Apulia, Italy              85.0        9.0   \n",
       "94      VIA PEUCETIA , Bari, Apulia, Italy             321.0        1.0   \n",
       "\n",
       "      rapporto  \n",
       "90    8.727273  \n",
       "91    5.375000  \n",
       "93    9.444444  \n",
       "94  321.000000  "
      ]
     },
     "execution_count": 219,
     "metadata": {},
     "output_type": "execute_result"
    }
   ],
   "source": [
    "gdf.loc[gdf['nome'] == 'JAPIGIA 1 - VERGA (Istituto Comprensivo)',\n",
    "         ['nome', 'ordine', 'indirizzo', 'frequentanti_tot', 'n_docenti', 'rapporto']]"
   ]
  },
  {
   "cell_type": "markdown",
   "metadata": {},
   "source": [
    "## View\n",
    "Below is an area for each Tableau representation (or other Softwares)"
   ]
  },
  {
   "cell_type": "markdown",
   "metadata": {},
   "source": [
    "### Bouble Chart ~ Tableau"
   ]
  },
  {
   "cell_type": "markdown",
   "metadata": {},
   "source": [
    "This area only changes the **sep** char of the csv file because Tableau works with \"\\t\" sep"
   ]
  },
  {
   "cell_type": "code",
   "execution_count": null,
   "metadata": {},
   "outputs": [],
   "source": [
    "gdf.to_csv(\"./Tableau/School - Bubble chart/modified_schools.csv\", index=False, sep='\\t')"
   ]
  },
  {
   "cell_type": "markdown",
   "metadata": {},
   "source": [
    "### Radar Chart ~ Fluorish"
   ]
  },
  {
   "cell_type": "code",
   "execution_count": 330,
   "metadata": {},
   "outputs": [],
   "source": [
    "df_radar = gdf.copy()"
   ]
  },
  {
   "cell_type": "code",
   "execution_count": 204,
   "metadata": {},
   "outputs": [
    {
     "data": {
      "text/plain": [
       "Index(['nome', 'ordine', 'indirizzo', 'n_biblioteca', 'n_laboratori',\n",
       "       'n_aule_attivita_collettive', 'n_palestre_coperte',\n",
       "       'n_palestre_scoperte', 'n_auditorium', 'n_ambienti_destinati_ad_aule',\n",
       "       'n_sale_insegnati', 'n_cucine', 'n_servizi_igenici', 'n_ascensori',\n",
       "       'n_piani', 'n_aule_non_utilizzate', 'n_classi_funzionanti_nell_anno',\n",
       "       'n_alunni_servizio_trasporto', 'iscritti_tot', 'frequentanti_tot',\n",
       "       'n_docenti', 'n_bidelli', 'n_custode', 'Lat', 'Lon', 'quartiere',\n",
       "       'quartiere_geom', 'rapporto'],\n",
       "      dtype='object')"
      ]
     },
     "execution_count": 204,
     "metadata": {},
     "output_type": "execute_result"
    }
   ],
   "source": [
    "df_radar.columns"
   ]
  },
  {
   "cell_type": "markdown",
   "metadata": {},
   "source": [
    "Select useful columns"
   ]
  },
  {
   "cell_type": "code",
   "execution_count": 331,
   "metadata": {},
   "outputs": [],
   "source": [
    "# Select only some columns\n",
    "df_radar = df_radar.loc[:, ['ordine','n_biblioteca', 'n_laboratori', 'n_palestre_coperte', 'n_palestre_scoperte',\n",
    "                             'n_cucine', 'n_ascensori', 'n_servizi_igenici',\n",
    "                             'n_ambienti_destinati_ad_aule', 'n_classi_funzionanti_nell_anno', 'frequentanti_tot']]"
   ]
  },
  {
   "cell_type": "code",
   "execution_count": 332,
   "metadata": {},
   "outputs": [
    {
     "data": {
      "application/vnd.microsoft.datawrangler.viewer.v0+json": {
       "columns": [
        {
         "name": "index",
         "rawType": "int64",
         "type": "integer"
        },
        {
         "name": "ordine",
         "rawType": "object",
         "type": "string"
        },
        {
         "name": "n_biblioteca",
         "rawType": "float64",
         "type": "float"
        },
        {
         "name": "n_laboratori",
         "rawType": "float64",
         "type": "float"
        },
        {
         "name": "n_palestre_coperte",
         "rawType": "float64",
         "type": "float"
        },
        {
         "name": "n_palestre_scoperte",
         "rawType": "float64",
         "type": "float"
        },
        {
         "name": "n_cucine",
         "rawType": "float64",
         "type": "float"
        },
        {
         "name": "n_ascensori",
         "rawType": "float64",
         "type": "float"
        },
        {
         "name": "n_servizi_igenici",
         "rawType": "float64",
         "type": "float"
        },
        {
         "name": "n_ambienti_destinati_ad_aule",
         "rawType": "float64",
         "type": "float"
        },
        {
         "name": "n_classi_funzionanti_nell_anno",
         "rawType": "object",
         "type": "string"
        },
        {
         "name": "frequentanti_tot",
         "rawType": "float64",
         "type": "float"
        }
       ],
       "conversionMethod": "pd.DataFrame",
       "ref": "2930cc7a-9a81-4317-8c5e-40e64c424b95",
       "rows": [
        [
         "1",
         "Infanzia",
         "0.0",
         "0.0",
         "0.0",
         "0.0",
         "2.0",
         "0.0",
         "11.0",
         "3.0",
         "3",
         "40.0"
        ],
        [
         "2",
         "Infanzia",
         "0.0",
         "0.0",
         "0.0",
         "0.0",
         "1.0",
         "0.0",
         "6.0",
         "5.0",
         "3",
         "62.0"
        ],
        [
         "5",
         "Primaria",
         "1.0",
         "1.0",
         "1.0",
         "1.0",
         "1.0",
         "1.0",
         "17.0",
         "10.0",
         "5",
         "81.0"
        ],
        [
         "6",
         "Primaria",
         "1.0",
         "1.0",
         "1.0",
         "1.0",
         "1.0",
         "1.0",
         "28.0",
         "26.0",
         "20",
         "359.0"
        ],
        [
         "9",
         "Infanzia",
         "1.0",
         "2.0",
         "0.0",
         "0.0",
         "0.0",
         "0.0",
         "3.0",
         "9.0",
         "9",
         "164.0"
        ]
       ],
       "shape": {
        "columns": 11,
        "rows": 5
       }
      },
      "text/html": [
       "<div>\n",
       "<style scoped>\n",
       "    .dataframe tbody tr th:only-of-type {\n",
       "        vertical-align: middle;\n",
       "    }\n",
       "\n",
       "    .dataframe tbody tr th {\n",
       "        vertical-align: top;\n",
       "    }\n",
       "\n",
       "    .dataframe thead th {\n",
       "        text-align: right;\n",
       "    }\n",
       "</style>\n",
       "<table border=\"1\" class=\"dataframe\">\n",
       "  <thead>\n",
       "    <tr style=\"text-align: right;\">\n",
       "      <th></th>\n",
       "      <th>ordine</th>\n",
       "      <th>n_biblioteca</th>\n",
       "      <th>n_laboratori</th>\n",
       "      <th>n_palestre_coperte</th>\n",
       "      <th>n_palestre_scoperte</th>\n",
       "      <th>n_cucine</th>\n",
       "      <th>n_ascensori</th>\n",
       "      <th>n_servizi_igenici</th>\n",
       "      <th>n_ambienti_destinati_ad_aule</th>\n",
       "      <th>n_classi_funzionanti_nell_anno</th>\n",
       "      <th>frequentanti_tot</th>\n",
       "    </tr>\n",
       "  </thead>\n",
       "  <tbody>\n",
       "    <tr>\n",
       "      <th>1</th>\n",
       "      <td>Infanzia</td>\n",
       "      <td>0.0</td>\n",
       "      <td>0.0</td>\n",
       "      <td>0.0</td>\n",
       "      <td>0.0</td>\n",
       "      <td>2.0</td>\n",
       "      <td>0.0</td>\n",
       "      <td>11.0</td>\n",
       "      <td>3.0</td>\n",
       "      <td>3</td>\n",
       "      <td>40.0</td>\n",
       "    </tr>\n",
       "    <tr>\n",
       "      <th>2</th>\n",
       "      <td>Infanzia</td>\n",
       "      <td>0.0</td>\n",
       "      <td>0.0</td>\n",
       "      <td>0.0</td>\n",
       "      <td>0.0</td>\n",
       "      <td>1.0</td>\n",
       "      <td>0.0</td>\n",
       "      <td>6.0</td>\n",
       "      <td>5.0</td>\n",
       "      <td>3</td>\n",
       "      <td>62.0</td>\n",
       "    </tr>\n",
       "    <tr>\n",
       "      <th>5</th>\n",
       "      <td>Primaria</td>\n",
       "      <td>1.0</td>\n",
       "      <td>1.0</td>\n",
       "      <td>1.0</td>\n",
       "      <td>1.0</td>\n",
       "      <td>1.0</td>\n",
       "      <td>1.0</td>\n",
       "      <td>17.0</td>\n",
       "      <td>10.0</td>\n",
       "      <td>5</td>\n",
       "      <td>81.0</td>\n",
       "    </tr>\n",
       "    <tr>\n",
       "      <th>6</th>\n",
       "      <td>Primaria</td>\n",
       "      <td>1.0</td>\n",
       "      <td>1.0</td>\n",
       "      <td>1.0</td>\n",
       "      <td>1.0</td>\n",
       "      <td>1.0</td>\n",
       "      <td>1.0</td>\n",
       "      <td>28.0</td>\n",
       "      <td>26.0</td>\n",
       "      <td>20</td>\n",
       "      <td>359.0</td>\n",
       "    </tr>\n",
       "    <tr>\n",
       "      <th>9</th>\n",
       "      <td>Infanzia</td>\n",
       "      <td>1.0</td>\n",
       "      <td>2.0</td>\n",
       "      <td>0.0</td>\n",
       "      <td>0.0</td>\n",
       "      <td>0.0</td>\n",
       "      <td>0.0</td>\n",
       "      <td>3.0</td>\n",
       "      <td>9.0</td>\n",
       "      <td>9</td>\n",
       "      <td>164.0</td>\n",
       "    </tr>\n",
       "  </tbody>\n",
       "</table>\n",
       "</div>"
      ],
      "text/plain": [
       "     ordine  n_biblioteca  n_laboratori  n_palestre_coperte  \\\n",
       "1  Infanzia           0.0           0.0                 0.0   \n",
       "2  Infanzia           0.0           0.0                 0.0   \n",
       "5  Primaria           1.0           1.0                 1.0   \n",
       "6  Primaria           1.0           1.0                 1.0   \n",
       "9  Infanzia           1.0           2.0                 0.0   \n",
       "\n",
       "   n_palestre_scoperte  n_cucine  n_ascensori  n_servizi_igenici  \\\n",
       "1                  0.0       2.0          0.0               11.0   \n",
       "2                  0.0       1.0          0.0                6.0   \n",
       "5                  1.0       1.0          1.0               17.0   \n",
       "6                  1.0       1.0          1.0               28.0   \n",
       "9                  0.0       0.0          0.0                3.0   \n",
       "\n",
       "   n_ambienti_destinati_ad_aule n_classi_funzionanti_nell_anno  \\\n",
       "1                           3.0                              3   \n",
       "2                           5.0                              3   \n",
       "5                          10.0                              5   \n",
       "6                          26.0                             20   \n",
       "9                           9.0                              9   \n",
       "\n",
       "   frequentanti_tot  \n",
       "1              40.0  \n",
       "2              62.0  \n",
       "5              81.0  \n",
       "6             359.0  \n",
       "9             164.0  "
      ]
     },
     "execution_count": 332,
     "metadata": {},
     "output_type": "execute_result"
    }
   ],
   "source": [
    "df_radar.head()"
   ]
  },
  {
   "cell_type": "markdown",
   "metadata": {},
   "source": [
    "Transform column values ​​from string to int"
   ]
  },
  {
   "cell_type": "code",
   "execution_count": 333,
   "metadata": {},
   "outputs": [],
   "source": [
    "df_radar['n_classi_funzionanti_nell_anno'] = df_radar.loc[:, ['n_classi_funzionanti_nell_anno']].map(lambda s: int(s.split(\" \")[0]))"
   ]
  },
  {
   "cell_type": "markdown",
   "metadata": {},
   "source": [
    "Group rows by school order"
   ]
  },
  {
   "cell_type": "code",
   "execution_count": 334,
   "metadata": {},
   "outputs": [],
   "source": [
    "df_radar = df_radar.groupby(\"ordine\").mean().reset_index()"
   ]
  },
  {
   "cell_type": "markdown",
   "metadata": {},
   "source": [
    "Round the aggregate values"
   ]
  },
  {
   "cell_type": "code",
   "execution_count": 335,
   "metadata": {},
   "outputs": [],
   "source": [
    "df_radar.loc[:, 'n_biblioteca':] = df_radar.loc[:, 'n_biblioteca':].map(lambda x: np.ceil(x).astype(int))"
   ]
  },
  {
   "cell_type": "markdown",
   "metadata": {},
   "source": [
    "Rename columns with understandable names"
   ]
  },
  {
   "cell_type": "code",
   "execution_count": 336,
   "metadata": {},
   "outputs": [],
   "source": [
    "df_radar.columns = ['ordine', 'biblioteche', 'laboratori', 'palestre_coperte',\n",
    "                    'palestre_scoperte', 'cucine', 'ascensori',\n",
    "                    'servizi_igenici','aule',  'aule_funzionanti_nell_anno', 'media_studenti']"
   ]
  },
  {
   "cell_type": "code",
   "execution_count": 337,
   "metadata": {},
   "outputs": [
    {
     "data": {
      "application/vnd.microsoft.datawrangler.viewer.v0+json": {
       "columns": [
        {
         "name": "index",
         "rawType": "int64",
         "type": "integer"
        },
        {
         "name": "ordine",
         "rawType": "object",
         "type": "string"
        },
        {
         "name": "biblioteche",
         "rawType": "float64",
         "type": "float"
        },
        {
         "name": "laboratori",
         "rawType": "float64",
         "type": "float"
        },
        {
         "name": "palestre_coperte",
         "rawType": "float64",
         "type": "float"
        },
        {
         "name": "palestre_scoperte",
         "rawType": "float64",
         "type": "float"
        },
        {
         "name": "cucine",
         "rawType": "float64",
         "type": "float"
        },
        {
         "name": "ascensori",
         "rawType": "float64",
         "type": "float"
        },
        {
         "name": "servizi_igenici",
         "rawType": "float64",
         "type": "float"
        },
        {
         "name": "aule",
         "rawType": "float64",
         "type": "float"
        },
        {
         "name": "aule_funzionanti_nell_anno",
         "rawType": "float64",
         "type": "float"
        },
        {
         "name": "media_studenti",
         "rawType": "float64",
         "type": "float"
        }
       ],
       "conversionMethod": "pd.DataFrame",
       "ref": "ff8dc0fd-3c19-4404-b8bd-c34169e7cf2c",
       "rows": [
        [
         "0",
         "Asilo",
         "1.0",
         "1.0",
         "1.0",
         "1.0",
         "1.0",
         "1.0",
         "5.0",
         "3.0",
         "3.0",
         "42.0"
        ],
        [
         "1",
         "Infanzia",
         "1.0",
         "1.0",
         "1.0",
         "1.0",
         "1.0",
         "1.0",
         "5.0",
         "4.0",
         "4.0",
         "86.0"
        ],
        [
         "2",
         "Primaria",
         "1.0",
         "2.0",
         "1.0",
         "1.0",
         "1.0",
         "1.0",
         "11.0",
         "13.0",
         "13.0",
         "267.0"
        ],
        [
         "3",
         "Secondaria I Grado",
         "1.0",
         "3.0",
         "1.0",
         "1.0",
         "1.0",
         "1.0",
         "6.0",
         "8.0",
         "10.0",
         "211.0"
        ],
        [
         "4",
         "Secondaria II Grado",
         "1.0",
         "7.0",
         "1.0",
         "1.0",
         "1.0",
         "2.0",
         "23.0",
         "27.0",
         "27.0",
         "564.0"
        ]
       ],
       "shape": {
        "columns": 11,
        "rows": 5
       }
      },
      "text/html": [
       "<div>\n",
       "<style scoped>\n",
       "    .dataframe tbody tr th:only-of-type {\n",
       "        vertical-align: middle;\n",
       "    }\n",
       "\n",
       "    .dataframe tbody tr th {\n",
       "        vertical-align: top;\n",
       "    }\n",
       "\n",
       "    .dataframe thead th {\n",
       "        text-align: right;\n",
       "    }\n",
       "</style>\n",
       "<table border=\"1\" class=\"dataframe\">\n",
       "  <thead>\n",
       "    <tr style=\"text-align: right;\">\n",
       "      <th></th>\n",
       "      <th>ordine</th>\n",
       "      <th>biblioteche</th>\n",
       "      <th>laboratori</th>\n",
       "      <th>palestre_coperte</th>\n",
       "      <th>palestre_scoperte</th>\n",
       "      <th>cucine</th>\n",
       "      <th>ascensori</th>\n",
       "      <th>servizi_igenici</th>\n",
       "      <th>aule</th>\n",
       "      <th>aule_funzionanti_nell_anno</th>\n",
       "      <th>media_studenti</th>\n",
       "    </tr>\n",
       "  </thead>\n",
       "  <tbody>\n",
       "    <tr>\n",
       "      <th>0</th>\n",
       "      <td>Asilo</td>\n",
       "      <td>1.0</td>\n",
       "      <td>1.0</td>\n",
       "      <td>1.0</td>\n",
       "      <td>1.0</td>\n",
       "      <td>1.0</td>\n",
       "      <td>1.0</td>\n",
       "      <td>5.0</td>\n",
       "      <td>3.0</td>\n",
       "      <td>3.0</td>\n",
       "      <td>42.0</td>\n",
       "    </tr>\n",
       "    <tr>\n",
       "      <th>1</th>\n",
       "      <td>Infanzia</td>\n",
       "      <td>1.0</td>\n",
       "      <td>1.0</td>\n",
       "      <td>1.0</td>\n",
       "      <td>1.0</td>\n",
       "      <td>1.0</td>\n",
       "      <td>1.0</td>\n",
       "      <td>5.0</td>\n",
       "      <td>4.0</td>\n",
       "      <td>4.0</td>\n",
       "      <td>86.0</td>\n",
       "    </tr>\n",
       "    <tr>\n",
       "      <th>2</th>\n",
       "      <td>Primaria</td>\n",
       "      <td>1.0</td>\n",
       "      <td>2.0</td>\n",
       "      <td>1.0</td>\n",
       "      <td>1.0</td>\n",
       "      <td>1.0</td>\n",
       "      <td>1.0</td>\n",
       "      <td>11.0</td>\n",
       "      <td>13.0</td>\n",
       "      <td>13.0</td>\n",
       "      <td>267.0</td>\n",
       "    </tr>\n",
       "    <tr>\n",
       "      <th>3</th>\n",
       "      <td>Secondaria I Grado</td>\n",
       "      <td>1.0</td>\n",
       "      <td>3.0</td>\n",
       "      <td>1.0</td>\n",
       "      <td>1.0</td>\n",
       "      <td>1.0</td>\n",
       "      <td>1.0</td>\n",
       "      <td>6.0</td>\n",
       "      <td>8.0</td>\n",
       "      <td>10.0</td>\n",
       "      <td>211.0</td>\n",
       "    </tr>\n",
       "    <tr>\n",
       "      <th>4</th>\n",
       "      <td>Secondaria II Grado</td>\n",
       "      <td>1.0</td>\n",
       "      <td>7.0</td>\n",
       "      <td>1.0</td>\n",
       "      <td>1.0</td>\n",
       "      <td>1.0</td>\n",
       "      <td>2.0</td>\n",
       "      <td>23.0</td>\n",
       "      <td>27.0</td>\n",
       "      <td>27.0</td>\n",
       "      <td>564.0</td>\n",
       "    </tr>\n",
       "  </tbody>\n",
       "</table>\n",
       "</div>"
      ],
      "text/plain": [
       "                ordine  biblioteche  laboratori  palestre_coperte  \\\n",
       "0                Asilo          1.0         1.0               1.0   \n",
       "1             Infanzia          1.0         1.0               1.0   \n",
       "2             Primaria          1.0         2.0               1.0   \n",
       "3   Secondaria I Grado          1.0         3.0               1.0   \n",
       "4  Secondaria II Grado          1.0         7.0               1.0   \n",
       "\n",
       "   palestre_scoperte  cucine  ascensori  servizi_igenici  aule  \\\n",
       "0                1.0     1.0        1.0              5.0   3.0   \n",
       "1                1.0     1.0        1.0              5.0   4.0   \n",
       "2                1.0     1.0        1.0             11.0  13.0   \n",
       "3                1.0     1.0        1.0              6.0   8.0   \n",
       "4                1.0     1.0        2.0             23.0  27.0   \n",
       "\n",
       "   aule_funzionanti_nell_anno  media_studenti  \n",
       "0                         3.0            42.0  \n",
       "1                         4.0            86.0  \n",
       "2                        13.0           267.0  \n",
       "3                        10.0           211.0  \n",
       "4                        27.0           564.0  "
      ]
     },
     "execution_count": 337,
     "metadata": {},
     "output_type": "execute_result"
    }
   ],
   "source": [
    "df_radar"
   ]
  },
  {
   "cell_type": "markdown",
   "metadata": {},
   "source": [
    "Save new Dataset"
   ]
  },
  {
   "cell_type": "code",
   "execution_count": 338,
   "metadata": {},
   "outputs": [
    {
     "name": "stderr",
     "output_type": "stream",
     "text": [
      "<>:1: SyntaxWarning: invalid escape sequence '\\S'\n",
      "<>:1: SyntaxWarning: invalid escape sequence '\\S'\n",
      "C:\\Users\\gabry\\AppData\\Local\\Temp\\ipykernel_23588\\3364606127.py:1: SyntaxWarning: invalid escape sequence '\\S'\n",
      "  df_radar.to_csv(\"Fluorish\\Schools - Radar chart\\modified_schools_radarChart.csv\", index=False)\n"
     ]
    }
   ],
   "source": [
    "df_radar.to_csv(\"Fluorish\\Schools - Radar chart\\modified_schools_radarChart.csv\", index=False)"
   ]
  },
  {
   "cell_type": "markdown",
   "metadata": {},
   "source": [
    "## Stacked Bar chart ~ Tableau"
   ]
  },
  {
   "cell_type": "markdown",
   "metadata": {},
   "source": [
    "**Fondamentals of data vis**: Capitolo 10 sez. 10.3"
   ]
  },
  {
   "cell_type": "markdown",
   "metadata": {},
   "source": [
    "Select useful columns"
   ]
  },
  {
   "cell_type": "code",
   "execution_count": 368,
   "metadata": {},
   "outputs": [],
   "source": [
    "df_column_chart = gdf.loc[:, ['quartiere', 'iscritti_tot', 'frequentanti_tot']].copy()"
   ]
  },
  {
   "cell_type": "markdown",
   "metadata": {},
   "source": [
    "Group rows by school district"
   ]
  },
  {
   "cell_type": "code",
   "execution_count": 369,
   "metadata": {},
   "outputs": [],
   "source": [
    "df_column_chart = df_column_chart.groupby(\"quartiere\").sum().reset_index()"
   ]
  },
  {
   "cell_type": "code",
   "execution_count": 370,
   "metadata": {},
   "outputs": [],
   "source": [
    "# Calculate the number of non-attending students\n",
    "df_column_chart[\"non_frequentanti\"] = df_column_chart[\"iscritti_tot\"]-df_column_chart[\"frequentanti_tot\"]"
   ]
  },
  {
   "cell_type": "code",
   "execution_count": 371,
   "metadata": {},
   "outputs": [
    {
     "data": {
      "application/vnd.microsoft.datawrangler.viewer.v0+json": {
       "columns": [
        {
         "name": "index",
         "rawType": "int64",
         "type": "integer"
        },
        {
         "name": "quartiere",
         "rawType": "object",
         "type": "string"
        },
        {
         "name": "iscritti_tot",
         "rawType": "float64",
         "type": "float"
        },
        {
         "name": "frequentanti_tot",
         "rawType": "float64",
         "type": "float"
        },
        {
         "name": "non_frequentanti",
         "rawType": "float64",
         "type": "float"
        }
       ],
       "conversionMethod": "pd.DataFrame",
       "ref": "0d07f090-1635-4f48-a2a2-3d1a271817fa",
       "rows": [
        [
         "0",
         "I - SAN NICOLA",
         "486.0",
         "486.0",
         "0.0"
        ],
        [
         "1",
         "II - MURAT",
         "1442.0",
         "1436.0",
         "6.0"
        ],
        [
         "2",
         "III - MADONNELLA",
         "1228.0",
         "1223.0",
         "5.0"
        ],
        [
         "3",
         "IV - LIBERTA'",
         "2438.0",
         "2403.0",
         "35.0"
        ],
        [
         "4",
         "IX - STANIC",
         "42.0",
         "42.0",
         "0.0"
        ],
        [
         "5",
         "V - JAPIGIA",
         "3474.0",
         "3474.0",
         "0.0"
        ],
        [
         "6",
         "VI - SAN PASQUALE",
         "2682.0",
         "2682.0",
         "0.0"
        ],
        [
         "7",
         "VII - CARRASSI",
         "1359.0",
         "1334.0",
         "25.0"
        ],
        [
         "8",
         "VIII - PICONE",
         "6246.0",
         "6152.0",
         "94.0"
        ],
        [
         "9",
         "X  - MARCONI - SAN GIROLAMO - FESCA",
         "468.0",
         "468.0",
         "0.0"
        ],
        [
         "10",
         "XI - SAN PAOLO",
         "749.0",
         "747.0",
         "2.0"
        ],
        [
         "11",
         "XII - PALESE - MACCHIE",
         "165.0",
         "165.0",
         "0.0"
        ],
        [
         "12",
         "XIII - SANTO SPIRITO",
         "850.0",
         "850.0",
         "0.0"
        ],
        [
         "13",
         "XIV - CARBONARA DI BARI",
         "511.0",
         "507.0",
         "4.0"
        ]
       ],
       "shape": {
        "columns": 4,
        "rows": 14
       }
      },
      "text/html": [
       "<div>\n",
       "<style scoped>\n",
       "    .dataframe tbody tr th:only-of-type {\n",
       "        vertical-align: middle;\n",
       "    }\n",
       "\n",
       "    .dataframe tbody tr th {\n",
       "        vertical-align: top;\n",
       "    }\n",
       "\n",
       "    .dataframe thead th {\n",
       "        text-align: right;\n",
       "    }\n",
       "</style>\n",
       "<table border=\"1\" class=\"dataframe\">\n",
       "  <thead>\n",
       "    <tr style=\"text-align: right;\">\n",
       "      <th></th>\n",
       "      <th>quartiere</th>\n",
       "      <th>iscritti_tot</th>\n",
       "      <th>frequentanti_tot</th>\n",
       "      <th>non_frequentanti</th>\n",
       "    </tr>\n",
       "  </thead>\n",
       "  <tbody>\n",
       "    <tr>\n",
       "      <th>0</th>\n",
       "      <td>I - SAN NICOLA</td>\n",
       "      <td>486.0</td>\n",
       "      <td>486.0</td>\n",
       "      <td>0.0</td>\n",
       "    </tr>\n",
       "    <tr>\n",
       "      <th>1</th>\n",
       "      <td>II - MURAT</td>\n",
       "      <td>1442.0</td>\n",
       "      <td>1436.0</td>\n",
       "      <td>6.0</td>\n",
       "    </tr>\n",
       "    <tr>\n",
       "      <th>2</th>\n",
       "      <td>III - MADONNELLA</td>\n",
       "      <td>1228.0</td>\n",
       "      <td>1223.0</td>\n",
       "      <td>5.0</td>\n",
       "    </tr>\n",
       "    <tr>\n",
       "      <th>3</th>\n",
       "      <td>IV - LIBERTA'</td>\n",
       "      <td>2438.0</td>\n",
       "      <td>2403.0</td>\n",
       "      <td>35.0</td>\n",
       "    </tr>\n",
       "    <tr>\n",
       "      <th>4</th>\n",
       "      <td>IX - STANIC</td>\n",
       "      <td>42.0</td>\n",
       "      <td>42.0</td>\n",
       "      <td>0.0</td>\n",
       "    </tr>\n",
       "    <tr>\n",
       "      <th>5</th>\n",
       "      <td>V - JAPIGIA</td>\n",
       "      <td>3474.0</td>\n",
       "      <td>3474.0</td>\n",
       "      <td>0.0</td>\n",
       "    </tr>\n",
       "    <tr>\n",
       "      <th>6</th>\n",
       "      <td>VI - SAN PASQUALE</td>\n",
       "      <td>2682.0</td>\n",
       "      <td>2682.0</td>\n",
       "      <td>0.0</td>\n",
       "    </tr>\n",
       "    <tr>\n",
       "      <th>7</th>\n",
       "      <td>VII - CARRASSI</td>\n",
       "      <td>1359.0</td>\n",
       "      <td>1334.0</td>\n",
       "      <td>25.0</td>\n",
       "    </tr>\n",
       "    <tr>\n",
       "      <th>8</th>\n",
       "      <td>VIII - PICONE</td>\n",
       "      <td>6246.0</td>\n",
       "      <td>6152.0</td>\n",
       "      <td>94.0</td>\n",
       "    </tr>\n",
       "    <tr>\n",
       "      <th>9</th>\n",
       "      <td>X  - MARCONI - SAN GIROLAMO - FESCA</td>\n",
       "      <td>468.0</td>\n",
       "      <td>468.0</td>\n",
       "      <td>0.0</td>\n",
       "    </tr>\n",
       "    <tr>\n",
       "      <th>10</th>\n",
       "      <td>XI - SAN PAOLO</td>\n",
       "      <td>749.0</td>\n",
       "      <td>747.0</td>\n",
       "      <td>2.0</td>\n",
       "    </tr>\n",
       "    <tr>\n",
       "      <th>11</th>\n",
       "      <td>XII - PALESE - MACCHIE</td>\n",
       "      <td>165.0</td>\n",
       "      <td>165.0</td>\n",
       "      <td>0.0</td>\n",
       "    </tr>\n",
       "    <tr>\n",
       "      <th>12</th>\n",
       "      <td>XIII - SANTO SPIRITO</td>\n",
       "      <td>850.0</td>\n",
       "      <td>850.0</td>\n",
       "      <td>0.0</td>\n",
       "    </tr>\n",
       "    <tr>\n",
       "      <th>13</th>\n",
       "      <td>XIV - CARBONARA DI BARI</td>\n",
       "      <td>511.0</td>\n",
       "      <td>507.0</td>\n",
       "      <td>4.0</td>\n",
       "    </tr>\n",
       "  </tbody>\n",
       "</table>\n",
       "</div>"
      ],
      "text/plain": [
       "                              quartiere  iscritti_tot  frequentanti_tot  \\\n",
       "0                        I - SAN NICOLA         486.0             486.0   \n",
       "1                            II - MURAT        1442.0            1436.0   \n",
       "2                      III - MADONNELLA        1228.0            1223.0   \n",
       "3                         IV - LIBERTA'        2438.0            2403.0   \n",
       "4                           IX - STANIC          42.0              42.0   \n",
       "5                           V - JAPIGIA        3474.0            3474.0   \n",
       "6                     VI - SAN PASQUALE        2682.0            2682.0   \n",
       "7                        VII - CARRASSI        1359.0            1334.0   \n",
       "8                         VIII - PICONE        6246.0            6152.0   \n",
       "9   X  - MARCONI - SAN GIROLAMO - FESCA         468.0             468.0   \n",
       "10                       XI - SAN PAOLO         749.0             747.0   \n",
       "11               XII - PALESE - MACCHIE         165.0             165.0   \n",
       "12                 XIII - SANTO SPIRITO         850.0             850.0   \n",
       "13              XIV - CARBONARA DI BARI         511.0             507.0   \n",
       "\n",
       "    non_frequentanti  \n",
       "0                0.0  \n",
       "1                6.0  \n",
       "2                5.0  \n",
       "3               35.0  \n",
       "4                0.0  \n",
       "5                0.0  \n",
       "6                0.0  \n",
       "7               25.0  \n",
       "8               94.0  \n",
       "9                0.0  \n",
       "10               2.0  \n",
       "11               0.0  \n",
       "12               0.0  \n",
       "13               4.0  "
      ]
     },
     "execution_count": 371,
     "metadata": {},
     "output_type": "execute_result"
    }
   ],
   "source": [
    "df_column_chart"
   ]
  },
  {
   "cell_type": "code",
   "execution_count": null,
   "metadata": {},
   "outputs": [],
   "source": [
    "df_column_chart.to_csv(\"Tableau\\School - Stacked Bar chart\\modified_schools_column_chart.csv\", index=False)"
   ]
  },
  {
   "cell_type": "markdown",
   "metadata": {},
   "source": [
    "## Pyramid chart - gender"
   ]
  },
  {
   "cell_type": "code",
   "execution_count": 240,
   "metadata": {},
   "outputs": [],
   "source": [
    "# TODO:"
   ]
  },
  {
   "cell_type": "code",
   "execution_count": null,
   "metadata": {},
   "outputs": [],
   "source": [
    "df = pd.read_csv(\"Raw Datasets/Elenco_scuole_2023_2024.csv\")"
   ]
  }
 ],
 "metadata": {
  "kernelspec": {
   "display_name": "vdvar-env",
   "language": "python",
   "name": "python3"
  },
  "language_info": {
   "codemirror_mode": {
    "name": "ipython",
    "version": 3
   },
   "file_extension": ".py",
   "mimetype": "text/x-python",
   "name": "python",
   "nbconvert_exporter": "python",
   "pygments_lexer": "ipython3",
   "version": "3.12.2"
  }
 },
 "nbformat": 4,
 "nbformat_minor": 2
}
